{
 "cells": [
  {
   "cell_type": "code",
   "execution_count": 1,
   "source": [
    "\r\n",
    "import pandas as pd\r\n",
    "import matplotlib.pyplot as plt\r\n",
    "import numpy as np\r\n",
    "import time\r\n",
    "import datetime\r\n",
    "import gensim\r\n",
    "from tqdm import tqdm\r\n",
    "from nltk.corpus import stopwords\r\n",
    "from gensim.models import LdaModel\r\n",
    "\r\n",
    "plt.style.use('seaborn')\r\n",
    "\r\n",
    "# spanish stop words\r\n",
    "stop_words = set(stopwords.words('spanish'))\r\n",
    "stop_words = ['t', 'si', 'q', 'https', 'co', 'solo', 'ser', 'bien', \r\n",
    "            'así', 'ma', 'mas', 'igual', 'va', 'después',\r\n",
    "            'hacer', 'hace', 'creo'] + list(stop_words)"
   ],
   "outputs": [
    {
     "output_type": "stream",
     "name": "stderr",
     "text": [
      "C:\\Users\\jigna\\AppData\\Local\\Programs\\Python\\Python36\\lib\\site-packages\\gensim\\similarities\\__init__.py:15: UserWarning: The gensim.similarities.levenshtein submodule is disabled, because the optional Levenshtein package <https://pypi.org/project/python-Levenshtein/> is unavailable. Install Levenhstein (e.g. `pip install python-Levenshtein`) to suppress this warning.\n",
      "  warnings.warn(msg)\n"
     ]
    }
   ],
   "metadata": {}
  },
  {
   "cell_type": "markdown",
   "source": [
    "# **Paths a los datos**"
   ],
   "metadata": {}
  },
  {
   "cell_type": "code",
   "execution_count": 2,
   "source": [
    "#data_paths = ['data/gabrielboric.csv', 'data/santiago_covid_2020.csv', 'data/santiago_pinera_2020.csv']\r\n",
    "data_paths = ['data/seven_days_tweets.csv']"
   ],
   "outputs": [],
   "metadata": {}
  },
  {
   "cell_type": "markdown",
   "source": [
    "# **Métodos útiles**"
   ],
   "metadata": {}
  },
  {
   "cell_type": "code",
   "execution_count": 3,
   "source": [
    "def bar_plot(x, y, title, file_name):\r\n",
    "    \"\"\"useful method to generate and save bar plots.\r\n",
    "\r\n",
    "    Args:\r\n",
    "        x (str, float?): names.\r\n",
    "        y (float): value of each name.\r\n",
    "        title (str): title to put on the plot.\r\n",
    "        file_name (str): fiel name to save the plot\r\n",
    "    \"\"\"\r\n",
    "    plt.bar(x, y)\r\n",
    "    plt.title(title)\r\n",
    "    plt.xticks(rotation=90)\r\n",
    "    plt.savefig(\"imgs/segunda_avance/\" + file_name)\r\n",
    "    plt.show()\r\n",
    "\r\n",
    "def delete_chars(text, unwanted_chars):\r\n",
    "    \"\"\"\r\n",
    "    useful method to replace a list of chars on text.\r\n",
    "    return:\r\n",
    "        (str) the same str without the chars in chars.\r\n",
    "    \"\"\"\r\n",
    "    for char in unwanted_chars:\r\n",
    "        text = text.replace(char, '')\r\n",
    "    return text\r\n",
    "\r\n",
    "def preprocess_tweet(tweet):\r\n",
    "    \"\"\"\r\n",
    "    Replaces unwanted characters and performs\r\n",
    "    a preprocessing.\r\n",
    "    input: \r\n",
    "        (str) tweet.\r\n",
    "    return:\r\n",
    "        (str[]) final: list of words.\r\n",
    "    \"\"\"\r\n",
    "    unwanted = ['#', ',', '.', '!', '?', '¿', '¡', '(',\\\r\n",
    "                ')', '-', '=', 'jaja', 'jajaja']\r\n",
    "    final = delete_chars(tweet, unwanted).split()\r\n",
    "    final = [w.lower() for w in final]\r\n",
    "    # Asumo que no hay @´s de dos caracteres como @ho.\r\n",
    "    final = [w for w in final if w not in stop_words and len(w) > 3]\r\n",
    "    # Se eliminan links\r\n",
    "    final = [w for w in final if w[:4] != 'http']\r\n",
    "    #final = [w for w in final if w[:1] != '@']\r\n",
    "    return final\r\n",
    "\r\n",
    "def bar_plot_(top_topics):\r\n",
    "    \"\"\"Plots the distribution for each topic.\r\n",
    "\r\n",
    "    Args:\r\n",
    "        top_topics ([type]): From lda_model.\r\n",
    "    \"\"\"\r\n",
    "    # Correr sólo para generar y guardar plots.\r\n",
    "    for ind, t in enumerate(top_topics):\r\n",
    "        bar_plot([x[1] for x in t[0]], [x[0] for x in t[0]], \\\r\n",
    "                \"Probabilidades por palabra: tópico {}. \\n coherencia: {}\".format(ind, round(t[1],2)), \\\r\n",
    "                \"boric_barplot{}.png\".format(ind))\r\n",
    "\r\n",
    "def preprocessed_tweets(data_paths):\r\n",
    "    \"\"\"Preprocess for twitter data.\r\n",
    "\r\n",
    "    Args:\r\n",
    "        data_paths (str[]): list of paths to raw twitter data csv. Must have ['date', 'tweet'] columns.\r\n",
    "\r\n",
    "    Returns:\r\n",
    "        pd.DataFrame: preprocessed twitter data.\r\n",
    "    \"\"\"\r\n",
    "    # Read and preprocecss data. El orden de los procesos importa.\r\n",
    "    data = pd.concat([pd.read_csv(p)[['date', 'tweet']] for p in data_paths]).reset_index()\r\n",
    "    data['date'] = [datetime.datetime.strptime(date, '%Y-%m-%d') for date in data['date']]\r\n",
    "    processed_tweets = data['tweet'].map(preprocess_tweet)\r\n",
    "    dropers = []\r\n",
    "    for ind, tweet in enumerate(processed_tweets):\r\n",
    "        if len(tweet) < 5:\r\n",
    "            dropers.append(ind) \r\n",
    "    return processed_tweets.drop(dropers) \r\n",
    "    "
   ],
   "outputs": [],
   "metadata": {}
  },
  {
   "cell_type": "markdown",
   "source": [
    "# **Métodos para el modelo**"
   ],
   "metadata": {}
  },
  {
   "cell_type": "code",
   "execution_count": 4,
   "source": [
    "def run_model(bow_corpus, dictionary, num_topics, alpha, eta):\r\n",
    "    \"\"\"Runs the model and print top topic.\r\n",
    "\r\n",
    "    Args:\r\n",
    "        bow_corpus ([type]): List of tweets as bow\r\n",
    "        dictionary ([type]): dictionary form of the corpus.\r\n",
    "        num_topics (int): number of topics.\r\n",
    "        alpha ([float]): a-priori belief for each topic probability. \r\n",
    "        eta ([float, float]): a-priori belief for words probabiliry\r\n",
    "                                on each topic.\r\n",
    "\r\n",
    "    Returns:\r\n",
    "        [type]: [description]\r\n",
    "    \"\"\"\r\n",
    "    # Run model.\r\n",
    "    lda_model = LdaModel(corpus=bow_corpus,\r\n",
    "                        id2word=dictionary,\r\n",
    "                        alpha=alpha,\r\n",
    "                        eta=eta,\r\n",
    "                        num_topics=num_topics,\r\n",
    "                        random_state=1)\r\n",
    "    # Get top topics from the model.\r\n",
    "    top_topics = lda_model.top_topics(corpus=bow_corpus, coherence='u_mass')\r\n",
    "    # Print all the important info.\r\n",
    "    print('-------------------------------------------------------------')\r\n",
    "    print('Dictionary len: ', len(dictionary))\r\n",
    "    print('Amount of tweets: ', len(bow_corpus))\r\n",
    "    print('-------------------------------------------------------------')\r\n",
    "    for idx, topic in lda_model.print_topics(-1):\r\n",
    "        print('TOPIC: {} \\nWORDS: {}'.format(idx, topic))\r\n",
    "    print('-------------------------------------------------------------')\r\n",
    "    print('Average topic coherence', np.mean([t[1] for t in top_topics]))\r\n",
    "    print('-------------------------------------------------------------')\r\n",
    "    bar_plot_(top_topics)\r\n",
    "\r\n",
    "\r\n",
    "# Method to calculate coherence measure for each hyperparamaters array.\r\n",
    "def coherence_value(bow_corpus, dictionary, num_topics, alpha, eta):\r\n",
    "    \"\"\"Given the hyperparameters, computes a lda_model and calculates\r\n",
    "    its 'u_mass' metric.\r\n",
    "\r\n",
    "    Args:\r\n",
    "        bow_corpus ([type]): List of tweets as bow\r\n",
    "        dictionary ([type]): dictionary form of the corpus.\r\n",
    "        num_topics (int): number of topics.\r\n",
    "        alpha ([float]): a-priori belief for each topic probability. \r\n",
    "        eta ([float, float]): a-priori belief for words probabiliry\r\n",
    "                                on each topic. \r\n",
    "\r\n",
    "    Returns:\r\n",
    "        [float]: coherence measure 'u_mass'.\r\n",
    "    \"\"\"\r\n",
    "    lda_model = LdaModel(corpus=bow_corpus,\r\n",
    "                        id2word=dictionary,\r\n",
    "                        alpha=alpha,\r\n",
    "                        eta=eta,\r\n",
    "                        num_topics=num_topics,\r\n",
    "                        random_state=1)\r\n",
    "    top_topics = lda_model.top_topics(corpus=bow_corpus, coherence='u_mass')\r\n",
    "    \r\n",
    "    return np.mean([t[1] for t in top_topics])\r\n",
    "\r\n",
    "\r\n",
    "\r\n",
    "#mini test: \r\n",
    "#print(coherence_value(bow_corpus, dictionary, 5, 'auto', 'auto'))\r\n",
    "\r\n",
    "def parameteres_optimization(topics_arr, alpha_arr, eta_arr, file_name):\r\n",
    "    \"\"\"Iterates over the array's product set, runs the model and save\r\n",
    "    the obtained results on a csv.\r\n",
    "\r\n",
    "    Args:\r\n",
    "        topics_arr (int[]): number of topics.\r\n",
    "        alpha_arr (obj[]): alpha.\r\n",
    "        eta_arr (obj[]): eta.\r\n",
    "        file_name (str): File name.\r\n",
    "    \"\"\"\r\n",
    "\r\n",
    "    # Guardamos los resultados en un df que se pasará a csv.\r\n",
    "    df_results = pd.DataFrame(columns=['parameters', 'u_mass'])\r\n",
    "    parameters = []\r\n",
    "    u_mass = []\r\n",
    "\r\n",
    "    for num in tqdm(topics_arr):\r\n",
    "        for alpha in alpha_arr:\r\n",
    "            for eta in eta_arr:\r\n",
    "                parameters.append((num, alpha, eta))\r\n",
    "                u_mass.append(coherence_value(bow_corpus, dictionary, num, alpha, eta))\r\n",
    "\r\n",
    "    df_results['parameters'] = parameters\r\n",
    "    df_results['u_mass'] = u_mass\r\n",
    "\r\n",
    "    # Save dataframe to csv file.\r\n",
    "    if file_name: df_results.to_csv(file_name + '.csv')\r\n",
    "\r\n",
    "    # Print data frame.\r\n",
    "    print(df_results)\r\n",
    "\r\n",
    "    # Return data frame.\r\n",
    "    return df_results"
   ],
   "outputs": [],
   "metadata": {}
  },
  {
   "cell_type": "markdown",
   "source": [
    "# **Optimización hiperparámetros**"
   ],
   "metadata": {}
  },
  {
   "cell_type": "code",
   "execution_count": 5,
   "source": [
    "# Esta celda sirve para variar los arreglos, correr todo y graficar.\r\n",
    "\r\n",
    "# id de la iteración.\r\n",
    "i = 0\r\n",
    "# Read and preprocess data.\r\n",
    "processed_tweets = preprocessed_tweets(data_paths)\r\n",
    "# Se crea el diccionario y no se filtran palabras\r\n",
    "dictionary = gensim.corpora.Dictionary(processed_tweets)\r\n",
    "\r\n",
    "dictionary.filter_extremes(no_below=100, no_above=1)\r\n",
    "\r\n",
    "bow_corpus = [dictionary.doc2bow(doc) for doc in processed_tweets]\r\n",
    "\r\n",
    "# Arrays.\r\n",
    "alpha_arr = ['auto', 'symmetric', 1, 2, 3]\r\n",
    "eta_arr = ['auto', 'symmetric', 1, 2, 3]\r\n",
    "file_name = 'mix_param_optimization' + str(i) + '_informe'\r\n",
    "df_results = parameteres_optimization([5], alpha_arr, eta_arr, file_name)\r\n",
    "\r\n",
    "# Sacamos valores para graficar.\r\n",
    "str_param = ['{}'.format(p) for p in df_results['parameters']]\r\n",
    "plt.plot(str_param, df_results['u_mass'], '-o')\r\n",
    "plt.xticks(rotation=90)\r\n",
    "plt.title('Coherencia u_mass')\r\n",
    "plt.ylabel('u_mass')\r\n",
    "plt.xlabel('Combinaciones de parámetros')\r\n",
    "plt.show()\r\n"
   ],
   "outputs": [
    {
     "output_type": "stream",
     "name": "stderr",
     "text": [
      "100%|██████████| 1/1 [02:31<00:00, 151.71s/it]\n"
     ]
    },
    {
     "output_type": "stream",
     "name": "stdout",
     "text": [
      "                   parameters    u_mass\n",
      "0             (5, auto, auto) -9.184483\n",
      "1        (5, auto, symmetric) -9.184483\n",
      "2                (5, auto, 1) -8.809146\n",
      "3                (5, auto, 2) -8.932425\n",
      "4                (5, auto, 3) -8.605767\n",
      "5        (5, symmetric, auto) -8.794592\n",
      "6   (5, symmetric, symmetric) -8.794592\n",
      "7           (5, symmetric, 1) -8.768383\n",
      "8           (5, symmetric, 2) -8.610768\n",
      "9           (5, symmetric, 3) -8.572624\n",
      "10               (5, 1, auto) -8.788732\n",
      "11          (5, 1, symmetric) -8.788732\n",
      "12                  (5, 1, 1) -9.159057\n",
      "13                  (5, 1, 2) -9.155462\n",
      "14                  (5, 1, 3) -8.895629\n",
      "15               (5, 2, auto) -9.039119\n",
      "16          (5, 2, symmetric) -9.039119\n",
      "17                  (5, 2, 1) -9.267746\n",
      "18                  (5, 2, 2) -9.311857\n",
      "19                  (5, 2, 3) -9.409856\n",
      "20               (5, 3, auto) -9.778566\n",
      "21          (5, 3, symmetric) -9.778566\n",
      "22                  (5, 3, 1) -9.758822\n",
      "23                  (5, 3, 2) -9.645456\n",
      "24                  (5, 3, 3) -9.600034\n"
     ]
    },
    {
     "output_type": "display_data",
     "data": {
      "text/plain": [
       "<Figure size 576x396 with 1 Axes>"
      ],
      "image/png": "[encoded data removed]"
     },
     "metadata": {}
    }
   ],
   "metadata": {}
  },
  {
   "cell_type": "markdown",
   "source": [
    "# **Celda para correr un sólo modelo**"
   ],
   "metadata": {}
  },
  {
   "cell_type": "code",
   "execution_count": 7,
   "source": [
    "# Esta celda es para corre el método run_model()\r\n",
    "\r\n",
    "# Read and preprocess data.\r\n",
    "processed_tweets = preprocessed_tweets(data_paths)\r\n",
    "# Se crea el diccionario sin filtrar; modelo base.\r\n",
    "dictionary = gensim.corpora.Dictionary(processed_tweets)\r\n",
    "print('largo original: ', len(dictionary))\r\n",
    "dictionary.filter_extremes(no_below=100, no_above=1)\r\n",
    "bow_corpus = [dictionary.doc2bow(doc) for doc in processed_tweets]\r\n",
    "\r\n",
    "num_topics = 5\r\n",
    "alpha = 'symmetric'\r\n",
    "eta = 3\r\n",
    "#run_model(bow_corpus, dictionary, num_topics, alpha, eta)"
   ],
   "outputs": [
    {
     "output_type": "stream",
     "name": "stdout",
     "text": [
      "largo original:  80920\n"
     ]
    }
   ],
   "metadata": {}
  },
  {
   "cell_type": "code",
   "execution_count": null,
   "source": [],
   "outputs": [],
   "metadata": {}
  }
 ],
 "metadata": {
  "orig_nbformat": 4,
  "language_info": {
   "name": "python",
   "version": "3.6.4",
   "mimetype": "text/x-python",
   "codemirror_mode": {
    "name": "ipython",
    "version": 3
   },
   "pygments_lexer": "ipython3",
   "nbconvert_exporter": "python",
   "file_extension": ".py"
  },
  "kernelspec": {
   "name": "python3",
   "display_name": "Python 3.6.4 64-bit"
  },
  "interpreter": {
   "hash": "bea891d4f4659476d21e83a48ee1b355f8820be15a794f539b2195aa6b1473be"
  }
 },
 "nbformat": 4,
 "nbformat_minor": 2
}