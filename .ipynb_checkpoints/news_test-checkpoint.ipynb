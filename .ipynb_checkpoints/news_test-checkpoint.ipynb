{
 "cells": [
  {
   "cell_type": "code",
   "execution_count": null,
   "id": "7d9d5938",
   "metadata": {},
   "outputs": [],
   "source": [
    "import bz2\n",
    "# import itertools\n",
    "# import codecs\n",
    "\n",
    "file = \"data/news_data.bz2\"\n",
    "with bz2.BZ2File(file, \"r\") as fp:\n",
    "    fp.write('\\n'.join('123456789'))"
   ]
  }
 ],
 "metadata": {
  "kernelspec": {
   "display_name": "Python 3",
   "language": "python",
   "name": "python3"
  },
  "language_info": {
   "codemirror_mode": {
    "name": "ipython",
    "version": 3
   },
   "file_extension": ".py",
   "mimetype": "text/x-python",
   "name": "python",
   "nbconvert_exporter": "python",
   "pygments_lexer": "ipython3",
   "version": "3.6.4"
  }
 },
 "nbformat": 4,
 "nbformat_minor": 5
}
