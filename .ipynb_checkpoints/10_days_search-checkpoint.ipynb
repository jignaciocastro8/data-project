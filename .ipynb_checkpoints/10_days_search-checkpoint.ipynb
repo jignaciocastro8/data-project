{
 "cells": [
  {
   "cell_type": "code",
   "execution_count": 1,
   "id": "ef079963-86f6-4801-b243-865e0a27697a",
   "metadata": {},
   "outputs": [],
   "source": [
    "from tensorflow.keras.callbacks import LambdaCallback\n",
    "from tensorflow.keras.models import Sequential\n",
    "from tensorflow.keras.layers import Dense\n",
    "from tensorflow.keras.layers import LSTM\n",
    "from tensorflow.keras.optimizers import RMSprop\n",
    "from tensorflow.keras.utils import get_file\n",
    "import numpy as np\n",
    "import random\n",
    "import sys\n",
    "import io\n",
    "import requests\n",
    "import re"
   ]
  },
  {
   "cell_type": "code",
   "execution_count": 1,
   "id": "b7c304f6-f41c-414b-850b-5f56e320c8e8",
   "metadata": {},
   "outputs": [],
   "source": [
    "import pandas as pd\n",
    "import twint\n",
    "import nest_asyncio\n",
    "nest_asyncio.apply()"
   ]
  },
  {
   "cell_type": "code",
   "execution_count": 2,
   "id": "10aa38d7-184a-410d-a9d3-ef8718f890aa",
   "metadata": {
    "tags": [
     "outputPrepend"
    ]
   },
   "outputs": [
    {
     "output_type": "stream",
     "name": "stdout",
     "text": [
      "OVID they unintentionally shield us from the horrors of this disease. Scenes just like this played out in America, and we all remained blissfully unaware of them. We left room for falsehoods and conspiracy theories to take root.\n1389369163039260675 2021-05-03 19:59:56 -0400 <MarjorieNichol> I’m supporting @UNICEFCanada in their global #COVID_19 vaccine delivery efforts. Join us and donate now.  https://t.co/l6YtOHEnNK\n1389369158899470337 2021-05-03 19:59:55 -0400 <ukboi1997> @SingleFilePlz @ossien1 @Heidi_LDN @willnorman You’re looking at figures just during Covid, look at the years prior to Covid and you’ll understand\n1389369157934714880 2021-05-03 19:59:55 -0400 <ciperon> @PMOIndia @narendramodi Covid Virus Made India Deserve Who Are Our True Friends And Countries Who Enjoys Death In India, We Are Really Grateful For The Nations Who Came Forward To Help Us.\n1389369155728691202 2021-05-03 19:59:54 -0400 <Duicen2> Just took the covid vaccine 🙏 #vaccinated\n1389369155426549761 2021-05-03 19:59:54 -0400 <HindustanTimes> Tanzanian diplomat dies of Covid as missions battle surge in Capital  https://t.co/kd7XkLkyYi\n1389369154835128320 2021-05-03 19:59:54 -0400 <schandra_100> Hearing that lots of BJP folks getting whacked in Bengal. I am aware of TMC Goon behaviour but after this election am unclear if the current violence is real or a continuation of election propaganda. Either way, good time for everyone to calm down and focus on COVID\n1389369154784923652 2021-05-03 19:59:54 -0400 <danitales_> 3rd taking taking Mia to Houston and every time,y’all cousins decide to get high before the fight and then bother me because they have the munchies. ain’t no food since covid miss ma’am’s, leave me alone pls.\n1389369154755612677 2021-05-03 19:59:54 -0400 <DianePinkerton> @DrP_MD OFFS There is absolutely no evidence that vitamin D is effective against Covid. For the safety of your patients your license to practice medicine should be rescinded. @cpso_ca you need to investigate this clown.\n1389369154613006337 2021-05-03 19:59:54 -0400 <chrswar> tô puta pra caralho pq foi uma irresponsabilidade descabida da minha prima vir na minha casa sabendo que a família do namorado dela estava com covid agora eu contraí o vírus e meu irmão asmatico possivelmente irá contrair também pq ele dormia comigo\n1389369153652461570 2021-05-03 19:59:54 -0400 <The_video_gurus> Centre Exempts Imported Covid Relief Material From IGST Till June 30  https://t.co/H42kg0mmOy\n1389369152834445313 2021-05-03 19:59:53 -0400 <Dolly_Martella> In 6 months republicans will be wondering why Covid is disproportionately affecting red states. Somehow that will be the fault of the Democrats. 🙄 #TheReidOut\n1389369151861530627 2021-05-03 19:59:53 -0400 <neto_benedicto> @prefeiturabelem Essa doença mexe com o psicológico. É preciso acompanhamento de psicólogos também. Eu sei porque eu venci a covid estando internado\n1389369151173664768 2021-05-03 19:59:53 -0400 <melbak99> Covid Vaccines: Last Week Tonight with John Oliver (HBO)  https://t.co/dsu0Kf30Tt via @YouTube\n1389369151173529602 2021-05-03 19:59:53 -0400 <Nikism5> Not foreseeing an event or catastrophe is excusable , building something fragile to them is not. India under Bjp rule is a disaster proven by Covid , no further proof required. #CovidIndia #ExitModi #IndiansDyingModiEnjoying #AatmanirbharBharat #indianeedoxygen #NDTVTopStories\n1389369148933910530 2021-05-03 19:59:52 -0400 <alvesmariaana> @yubrbs  diz pra loirinha não ir pro hotel. Tá uma aglomeração danada, diz pra ela se proteger....olha o covid pelo amor de Deus 🙏🙏\n1389369148493504513 2021-05-03 19:59:52 -0400 <JanePlagge> The COVID Passport: Fascism at Hand  https://t.co/NidI4IFL8c\n1389369148468301835 2021-05-03 19:59:52 -0400 <quintanto> #COVID19 #coronavirus #COVID__19 #Covidiotas  https://t.co/MjeNQvh9tW\n1389369147709087747 2021-05-03 19:59:52 -0400 <Francis13522944> @elchiringuitotv Ojalá no viváis la experiencia de auxiliar a los enfermos de Covid en los hospitales, dad ejemplo y donad vuestro salario para resiradores y medicinas para los enfermos y protección en batas y guantes a lis enfermeros\n1389369147268780035 2021-05-03 19:59:52 -0400 <dee__ski> 🤣 Cus just said “shidddd I’m vaccinated “ 😅 I hate this Covid shit\n1389369144173162496 2021-05-03 19:59:51 -0400 <MohdAhtishamAh1> Urgently required Plasma from Covid Recovered A+ Patient name: Quaisar Jahan Gender: Female Age:62 Blood group:A+ Requirement: Plasma No. Of units: 2 Co-morb: Diabetic (insulin dependent) Patient in ICU at Jagannath Hospital, Ranchi.\n1389369143195996160 2021-05-03 19:59:51 -0400 <kallipessoa> @eduardopaes as escolas que estão apresentando casos de COVID tem que testar todos os profissionais, tá jogando pessoas na fogueira, tá foda\n1389369140553650178 2021-05-03 19:59:50 -0400 <ActionJacksonYo> @TheDoseTweets @Acosta Traveling in a car is at least three times more lethal for her than Covid. Consider never allowing her to leave the house if mitigating all risks is your goal or hers. Maybe you should give her that dose of reality.\n1389369140176097282 2021-05-03 19:59:50 -0400 <OverThinknArT> @overthinkn5art2 2016 HOW MANY BLACK MALES WAS PAID TO CONTACT ME RIGHT? AND LIED ABOUT MOVING TO FLORIDA BUYING A BIG HOUSE AND MANAGING MY SONS MUSICS GROUP LOL🤣😁😅  THEY WAS SEXXING OFF MY INTELLECTUAL PROPERTIES MAKING MONEY AND NOW COVID GOT THEIR STATE LOCKDOWN.  SEE HOW LIKE MADE A TURN\n1389369140083785728 2021-05-03 19:59:50 -0400 <siyu85091724> Oh my god, it is satire, I have another one : Covid-19 Live Updates: F.D.A. to Authorize Pfizer  's ' very different '\n1389369140000006144 2021-05-03 19:59:50 -0400 <yekfiil> covid 19 tedbirleri kapsamında aşı olmak yasaklandı ??\n1389369139156946946 2021-05-03 19:59:50 -0400 <SeremimineriaA> 🔴[EN VIVO]  Nuestro Seremi de Minería @Alex_Acuna7 🎙 en contacto con @radioalegria909 📍#Calama, informando sobre la Campaña de Vacunación para los distintos grupos de la población que se está realizando en la región y los protocolos covid en faena.  #MásYMejorMinería  https://t.co/NxiVMaexpv\n1389369139081453569 2021-05-03 19:59:50 -0400 <trai13> Canada must aim at stamping out COVID-19 spread: An open letter from doctors and scientists - Maclean's  https://t.co/kclIsRXCDC via @GoogleNews\n1389369138167132162 2021-05-03 19:59:50 -0400 <IamWhoIam1890> @NielsAnnen @Alemaniaparati @ElSalvadorDE @GermanyDiplo No le hagan caso a este señor no se ha tomado la pastilla, mejor que se vaya a vacunar contra el covid y no vaya ser que le llegué su hora de rendir cuentas celestiales, Por meterse en los asuntos de Dios, no se alemán ojalá lo traduzcas NO SEAS METIDO...😠😠😠\n1389369137852559360 2021-05-03 19:59:50 -0400 <DENISER38798295> @carlosriconbr @UOLNoticias Contra covid não sei, mas que ela tem efeitos benéficos no mal de parkinson e câncer de diversos tipos isso já se sabe\n1389369136250191873 2021-05-03 19:59:49 -0400 <RickSotonFC> The Missing Piece of the Covid-19 Death Puzzle: Co-Infection  https://t.co/KxzSSUrBw8\n1389369135830904837 2021-05-03 19:59:49 -0400 <resistance6666> Piney Point Eco Disaster destroys Tampa Bay;Red Tide;Algae Blooms. Floridians can not fly to most of Europe;because we have no cohesive COVID vaccine proof.Ron DeSantis=NO VACCINE PASSPORT;NO VOTING;NO PROTESTING;NO TRANS\n1389369135004459008 2021-05-03 19:59:49 -0400 <sailormontero> @PasigInfo Bakit ho yung mga ospital niyo like PCGH eh cremate or libing agad in a metal casket lang ang options kahit hindi covid ang cause of death (stroke) ? Nagswab pa pero hindi na raw maaantay ang result. Kumikita ho ba sila sa pagtag ng covid kahit hindi? @VicoSotto\n1389369133528010755 2021-05-03 19:59:49 -0400 <life_happyk> Before i have guess its May because i think they will try go to JPN but because 2nd wave covid hit japan again, i think they will promote amnesia virtually in July   Yeah keep the expectation low, remember its FNC\n1389369131087114242 2021-05-03 19:59:48 -0400 <BlogANascimento> Lewandowski afirma que gestores podem ser punidos por atraso em 2ª dose de vacina contra Covid  https://t.co/eg8MlUhvyB\n1389369130688581642 2021-05-03 19:59:48 -0400 <kitcl0udkicker> so my aunt just called and said we doin the first family cookout since covid started and YALL IM SO FUCKING HYPE!!!\n1389369130579546118 2021-05-03 19:59:48 -0400 <His_Persephone> @AsylumSynthetik and I are officially 2 for 2 when it comes to our COVID vaccine! :D Hail Science!  https://t.co/GvrremKlTa\n1389369129203867655 2021-05-03 19:59:48 -0400 <angelabme1> @EliseStefanik Instead of putting the interest of her constituents first. Stefanik put that of a Narcissistic psycho first.   Hundreds of thousands of Americans likely died needlessly from Covid-19, Dr. Deborah Birx, a Trump admin official, suggested in a CNN report. https://t.co/lo2UD2gADe\n1389369129195294724 2021-05-03 19:59:48 -0400 <mycorrhizabtc> @ItsBrendaBanks It’s a problem in science, but it seems we agree the covid response has nothing to do with science.\n1389369128989827075 2021-05-03 19:59:48 -0400 <Davelai11>  https://t.co/0PEMIv79vy Some figs re Wuhan virus aka COVID-19 pandemic. Death rate(static)=total deaths/total cases x100%, up to May3,2021.  World =2.09 USA=1.78 Canada =1.96 HK=1.78 Taiwan =1.05 Japan =1.71 Brazil=2.76 Chile=2.19 Russian =2.30 India =1.09 *surge expected\n1389369128050257924 2021-05-03 19:59:48 -0400 <you_psy> このコロナ禍、不要不急の国民投票改正案は自粛してください。  行政府および立法府は、入院すらできずCOVID-19に苦しむ人びとを救済してください。  オールジャパンなら出来るんでしょ？  #国民投票法改正案に抗議します\n1389369126691409921 2021-05-03 19:59:47 -0400 <estantedaleti> Acabei de saber que meus pais foram vacinados hoje contra a COVID. Eu tô emocionada, feliz e aliviada!! Sério, melhor notícia em meses 😍❤️\n1389369126611787777 2021-05-03 19:59:47 -0400 <max_drago> Copio y pego. Estoy trabajando en Villarrica y estoy indignado con este gobierno. Todos los Haitianos solo están dispuestos a trabajar sin imposiciones para aparentar que están cesantes. Hoy recibieron el bono covid de 500.000 más seguro cesantia 280.000 más sueldo mensual.\n1389369126049701891 2021-05-03 19:59:47 -0400 <abbygalejczuk> me tengo que quedar encerrada dos semanas porque el novio de mi mamá tiene covid jaj *se mata*\n1389369124912984066 2021-05-03 19:59:47 -0400 <Skull52954399> @Shubham29853785 @AmitShah Itney log covid sey marr rhe hain uska bhi ilzaam laga dey apne baap k upar ya bass bengal dikh rha hai tujhe akal k andhe\n1389369124149768193 2021-05-03 19:59:47 -0400 <beatrizlv_> @luisjpatrao Eu por acaso foi desde que tive covid e é obvio que em termos de memoria e etc isso afetou-me mas tipo durantes uns tempos eu nem filmes que é uma coisa muito mais soft e que exige muito menos conseguia ou tinha sequer vontade de ver. Tipo i-\n1389369121939365893 2021-05-03 19:59:46 -0400 <LilianaSerna> @Raforismos Esperemos que hace el covid de pronto nos da una manito 🙊🙊\n1389369119997374470 2021-05-03 19:59:46 -0400 <Chatrouge4> ‘It’s terrifying’: parents’ struggle to get help for children with long Covid  https://t.co/qH1ei57PfH\n1389369119204577280 2021-05-03 19:59:45 -0400 <askindincertr> Genel Başkanımız Sayın Devlet Bahçeli, yarın (04 Mayıs 2021) saat 10.45’te MHP Genel Merkezi’nde basın toplantısı yapacaklardır.  \"Basın toplantısı Covid-19 tedbirleri kapsamında düzenlenecek, basın mensupları haricinde dışarıdan ziyaretçi kabul edilmeyecektir.\"  https://t.co/xFcjKZi7Is\n1389369119158439939 2021-05-03 19:59:45 -0400 <NadaPersonalRC> 💥 BAJA SENSIBLE EN BOCA JUNIORS 💥   Esteban Andrada 🧤 portero de los 'Xeneizes', no será titular mañana por Covid-19 😷 su reemplazo será Agustín Rossi.   👉🏼 El portero se encuentra aislado en su habitación.   Vía: @Nicorivera05   #NadaPersonal #BocaJuniors  https://t.co/DvWzfwtvZX\n1389369115987619846 2021-05-03 19:59:45 -0400 <EnergyLs> @UOL NAO FOI ELE QUE  comprOU 38 mil urnas funerárias e abrIU 13 mil valas para enterrar mortos por Covid-19\n1389369115022872579 2021-05-03 19:59:44 -0400 <areyek_> the way Chowan would b turnt right now if there was no covid\n1389369114758680577 2021-05-03 19:59:44 -0400 <vantaedraws> minha melhor amiga contando dos apertos q ta passando no hospital por conta da covid, hj acabou a energia e faltou oxigênio pra um monte de gente mas aí vc vai olhar nos stories e os bonitinhos se encontrando toda semana sem um pingo de vergonha na cara vsf que ódio\n1389369113588293633 2021-05-03 19:59:44 -0400 <Parajuli_Prashi> @AyushiAdhikari3 @ashrestha @cricsuraj @covid_nepal @nepalcovidinfox Please try calling them #nepalcovidinfox #nepalcovidsos  https://t.co/O2Kr3T2mrR\n1389369112300646401 2021-05-03 19:59:44 -0400 <WisdomStacker> @rock_climber02 @azcoyotedogs @LastCoinStandng @Breaking911 They can't help it. Their brains have been successfully conditioned, esp. during covid, where News, radio, social media have input so much hatred towards trump that it's like a subconscious trigger. People's egos won't allow for criticism against their beliefs, right or wrong.\n1389369111621234689 2021-05-03 19:59:44 -0400 <SANSIMPER> @chanminholuv yeaa ikr and its my last highschool year tapi covid i cant do anything with my friends jugak 😭😭😭😭\n1389369111008919557 2021-05-03 19:59:43 -0400 <ResisteUSA> This CNN report on the Covid situation in India is absolutely horrific .\n1389369110727991303 2021-05-03 19:59:43 -0400 <daralebrun> @Iowntheprize @JaniceDean We did not know how covid was transmitted + why it afffects people differently—and we still know relatively little about it. It's a new virus. If you think you \"know what covid is,\" you're not even in the shed. Just a tool!\n1389369110115622917 2021-05-03 19:59:43 -0400 <marc_cart> @JumaLazzati Muy claro. Retuiterìa los tweets hacia el final del hilo donde aclara que quienes estamos en países que ya dan la Sputnik, o quienes ya han recibido la Sputnik, NO NOS PREOCUPEMOS. Es una buena vacuna y si ya recibiste ambas dosis - felicitaciones! Estás vacunade contra el COVID!\n1389369106886012930 2021-05-03 19:59:42 -0400 <CarlyCalifello> @DanDDouglas @Tamzilla_52 @LouisianaBogMon @marthaj44 @LGovment Yet we have provided information that it is causing injuries but you seem to not want to believe that. That's not spreading fake news. We have the data to show the recovery rate from COVID, that's not downplaying it. States are going back through readjusting their numbers as we\n1389369104591515649 2021-05-03 19:59:42 -0400 <SatishInnov8> @NaviRadjou The so-called “Kerala Model” is nothing more than a myth created by the Communist Propaganda machinery. The data on number of cases and deaths during each of the Covid waves in India proves the hollowness of this hyped model!\n1389369104260386819 2021-05-03 19:59:42 -0400 <darlan_mougenot> Brasileiros sofrendo com as atrocidades provocadas pela Covid-19 que é patrocinada por esse Bolsonaro genocida. #ForaBolsonaroGenocida   https://t.co/hcmiKRsepH\n1389369104184881159 2021-05-03 19:59:42 -0400 <martini225> @Not_the_Bee My daughter runs track in Louisiana and is able to practice and compete without a mask.  No Covid issues this season.  Oregon was ridiculous.\n1389369103459053571 2021-05-03 19:59:42 -0400 <Jessicakate86> @9NewsMelb Aussies &amp; residents have been stopped coming home for over a year now with different barriers. With the leaks that have been coming from quarantine he clearly doesn't want more risk at the moment with such a mutant strain of covid or is it the locked up public that can't risk it\n1389369103190695942 2021-05-03 19:59:42 -0400 <AnnieGabstonH> When I hear that there is a city where 72% of the police force has decided not to be vaccinated, it scares me.  Not only because of the possibility that they'll spread covid, but because it makes me worry that they may be trumpers.  Potentially deadly on two counts.\n1389369101466824707 2021-05-03 19:59:41 -0400 <LvcivsAnnaevs> @OpikBidin @clairlemon It's just that covid vaccines are so new the manufacturers are having issues setting safety standards up in such a short period of time. THAT is the problem here, not \"Bill Gates banned mass production of vaccines.\"\n1389369101433200645 2021-05-03 19:59:41 -0400 <7012Vogue> But if the sister waited for a mRNA vax, got COVID in the meantime when it could have been prevented, and died, could you live with yourself?\n1389369100799934468 2021-05-03 19:59:41 -0400 <Humaspolsekgan1> Baju baru memang penting,tapi kesehatan jauh lebih penting. Hindari kerumunan dalam berbelanja agar terhindar dari penyebaran virus Covid-19. @divisihumaspolri #kapoldasulsel #OpsYustisiPoldaSulsel #polripresisi #poldasulsel  https://t.co/GTjf2HYjQl\n1389369097473904643 2021-05-03 19:59:40 -0400 <NowitsmyHour> @DeMolJonathan @Mediavenir Non c'est son test covid\n1389369097213812737 2021-05-03 19:59:40 -0400 <rajapeanutbuter> Lawan covid lawan covid.. Covid gak bisa dilawan. Yg ada kamu jaga diri masing2 to the max. Kalo setiap orang bisa ngelakuin itu, pandemi reda. Jangan main minum ini itu  trus berasa aman dan keluar2 gak jelas, bro. Kalo you bisa diam saja di rumah, lakukan.  https://t.co/BQff1piqej\n1389369097062912002 2021-05-03 19:59:40 -0400 <conor153> having insomnia may actually mean having Long Covid\n1389369095120896012 2021-05-03 19:59:40 -0400 <patricityy> @Jeferson_JB_ iiiiiii então vou ter que espalhar pra todo mundo que você tem covid 😅\n1389369092478541826 2021-05-03 19:59:39 -0400 <pearsoncrz> @SandyatBeach Point out that even if they don't believe the masks are useful for Covid, there was almost no flu this year. We also had no strep infections and needed zero antibiotics for anyone.\n1389369090922491913 2021-05-03 19:59:39 -0400 <badgalpoli> Antes de eu ir mimir gostaria de informar que dia 6 agora tomarei minha primeira dose da vacina contra o covid-19 🥲♥️\n1389369090536443907 2021-05-03 19:59:39 -0400 <pilchard> @TheTodayShow People like michael slater who left Australia during a pandemic knew exactly what they were getting into when they signed their travel exemption application. Here is an excerpt taken directly from our home affairs Covid website.  https://t.co/p2Uqkwoo9g\n1389369090498826240 2021-05-03 19:59:39 -0400 <jsymons18> @ralphcarhart @_N_I_C_K_____ @GovRonDeSantis However, 35,000 people in the state of Florida have died from Covid out of 21,480,000 people. That is less than .17% of the population. 46,440 People died from heart disease, yet the line around McDonald is raped around the building for lunch and dinner.\n1389369089467035649 2021-05-03 19:59:38 -0400 <JagVaillant> @lariviere8 @AnneMarcotte Parfait, je pourrai me le payer avec $ des pensions et étant bien couvert pour la Covid, vais cetainement en profiter en riant des manifestants inconscients qui vont contribuer a une meilleur pension futur!\n1389369088120549379 2021-05-03 19:59:38 -0400 <sns1514> @htTweets U need more educated people all over the country..  this is good news. But why this rally in covid times..  this is not good.\n1389369085306277892 2021-05-03 19:59:37 -0400 <cassiew16> NEW INTERVIEW With Alex Newman of The New American and Dr. Carrie Madej: COVID SHOTS, DNA &amp; TRANSHUMANISM  https://t.co/VqRUmddv9U via @ggirl422\n1389369085251686400 2021-05-03 19:59:37 -0400 <lorakolodny> Global Giving has a page on covid relief for India and the covid crisis there.  https://t.co/0wuZc57p5o\n1389369084744175617 2021-05-03 19:59:37 -0400 <npinnock> 📷 #TRUSTGOD #tphonline #wetoomovement #abundantlife #godplan #instagram #injesusname #covid_19 #repost #love #bibleverse #bible #jesus #biblestudy #prayer #pray #christian #amen #bibleverseoftheday #blessed #messiah #thankful #devotional...  https://t.co/o5m0EcoseM\n1389369083808780290 2021-05-03 19:59:37 -0400 <ARTHURGCARTER1> India COVID cases soar as oxygen, vaccine shortages persist  https://t.co/RqGReIGXqW via @AJEnglish\n1389369083754385409 2021-05-03 19:59:37 -0400 <CanarioVerde1> ¿De qué MIERDA hablamos? Muertes en el mundo:  3 millons COVID  17.5 millons Cardíacos  7 millons Tabaquismo                                                   2020 récord cardio Las farmacéuticas gritan \"hasta la victoria siempre\"\n"
     ]
    }
   ],
   "source": [
    "# Configure\n",
    "c = twint.Config()\n",
    "#c.Username = \"JanitoElJano\"\n",
    "c.Limit = 100\n",
    "c.Search = 'covid'\n",
    "c.Since = '2021-05-01'\n",
    "c.Until = '2021-05-05' \n",
    "c.Store_json = True\n",
    "#c.Store_csv = True\n",
    "c.Output = 'data/big_search_test.json'\n",
    "# Run\n",
    "twint.run.Search(c)"
   ]
  },
  {
   "cell_type": "code",
   "execution_count": 3,
   "id": "0ddaae2c-23c7-4be0-af99-d35696c3837b",
   "metadata": {},
   "outputs": [],
   "source": [
    "import pandas as pd\n",
    "data = pd.read_json('data/big_search_test.json', lines=True)\n"
   ]
  },
  {
   "cell_type": "code",
   "execution_count": 4,
   "id": "4935a4b8-1320-44ba-8e07-912c32adc09f",
   "metadata": {},
   "outputs": [
    {
     "output_type": "execute_result",
     "data": {
      "text/plain": [
       "                      id      conversation_id  \\\n",
       "96   1389369085251686400  1389349337113587712   \n",
       "85   1389369097473904643  1389267257960841216   \n",
       "172  1389369111621234689  1389344669255946240   \n",
       "79   1389369104184881159  1388943871887949824   \n",
       "124  1389369154784923652  1389369154784923648   \n",
       "12   1389369168240148481  1389369168240148480   \n",
       "49   1389369135004459008  1388355894518317056   \n",
       "38   1389369143195996160  1389369143195996160   \n",
       "57   1389369128050257924  1389369128050257920   \n",
       "127  1389369153652461570  1389369153652461568   \n",
       "\n",
       "                                            created_at       date      time  \\\n",
       "96   2021-05-03 19:59:37 Hora est. Sudamérica Pacífico 2021-05-03  19:59:37   \n",
       "85   2021-05-03 19:59:40 Hora est. Sudamérica Pacífico 2021-05-03  19:59:40   \n",
       "172  2021-05-03 19:59:44 Hora est. Sudamérica Pacífico 2021-05-03  19:59:44   \n",
       "79   2021-05-03 19:59:42 Hora est. Sudamérica Pacífico 2021-05-03  19:59:42   \n",
       "124  2021-05-03 19:59:54 Hora est. Sudamérica Pacífico 2021-05-03  19:59:54   \n",
       "12   2021-05-03 19:59:57 Hora est. Sudamérica Pacífico 2021-05-03  19:59:57   \n",
       "49   2021-05-03 19:59:49 Hora est. Sudamérica Pacífico 2021-05-03  19:59:49   \n",
       "38   2021-05-03 19:59:51 Hora est. Sudamérica Pacífico 2021-05-03  19:59:51   \n",
       "57   2021-05-03 19:59:48 Hora est. Sudamérica Pacífico 2021-05-03  19:59:48   \n",
       "127  2021-05-03 19:59:54 Hora est. Sudamérica Pacífico 2021-05-03  19:59:54   \n",
       "\n",
       "     timezone              user_id         username                  name  \\\n",
       "96       -400             27046692      lorakolodny          Lora Kolodny   \n",
       "85       -400   955542318458789888     nowitsmyhour          Δ = b² - 4ac   \n",
       "172      -400  1138380755543793664        sansimper    fin is studying ʚɞ   \n",
       "79       -400           1244754067       martini225     Bored_on_Saturday   \n",
       "124      -400           2886318730       danitales_       fuckin’ yamhead   \n",
       "12       -400  1215258571304099840      polsekjambi  Polsek Jambi Selatan   \n",
       "49       -400           2788159602    sailormontero           Sarcawesome   \n",
       "38       -400             50643173      kallipessoa          Kalli Pessôa   \n",
       "57       -400             81334260          you_psy                  ゆうさい   \n",
       "127      -400   790155135322324992  the_video_gurus           NewsGurus24   \n",
       "\n",
       "    place  ... geo source user_rt_id user_rt retweet_id  \\\n",
       "96         ...                                            \n",
       "85         ...                                            \n",
       "172        ...                                            \n",
       "79         ...                                            \n",
       "124        ...                                            \n",
       "12         ...                                            \n",
       "49         ...                                            \n",
       "38         ...                                            \n",
       "57         ...                                            \n",
       "127        ...                                            \n",
       "\n",
       "                                              reply_to  retweet_date  \\\n",
       "96                                                  []                 \n",
       "85   [{'screen_name': 'DeMolJonathan', 'name': '𝓜𝓸𝓷...                 \n",
       "172  [{'screen_name': 'chanminholuv', 'name': 'S∆R∆...                 \n",
       "79   [{'screen_name': 'Not_the_Bee', 'name': 'Not t...                 \n",
       "124                                                 []                 \n",
       "12                                                  []                 \n",
       "49   [{'screen_name': 'PasigInfo', 'name': 'Pasig C...                 \n",
       "38                                                  []                 \n",
       "57                                                  []                 \n",
       "127                                                 []                 \n",
       "\n",
       "     translate trans_src trans_dest  \n",
       "96                                   \n",
       "85                                   \n",
       "172                                  \n",
       "79                                   \n",
       "124                                  \n",
       "12                                   \n",
       "49                                   \n",
       "38                                   \n",
       "57                                   \n",
       "127                                  \n",
       "\n",
       "[10 rows x 36 columns]"
      ],
      "text/html": "<div>\n<style scoped>\n    .dataframe tbody tr th:only-of-type {\n        vertical-align: middle;\n    }\n\n    .dataframe tbody tr th {\n        vertical-align: top;\n    }\n\n    .dataframe thead th {\n        text-align: right;\n    }\n</style>\n<table border=\"1\" class=\"dataframe\">\n  <thead>\n    <tr style=\"text-align: right;\">\n      <th></th>\n      <th>id</th>\n      <th>conversation_id</th>\n      <th>created_at</th>\n      <th>date</th>\n      <th>time</th>\n      <th>timezone</th>\n      <th>user_id</th>\n      <th>username</th>\n      <th>name</th>\n      <th>place</th>\n      <th>...</th>\n      <th>geo</th>\n      <th>source</th>\n      <th>user_rt_id</th>\n      <th>user_rt</th>\n      <th>retweet_id</th>\n      <th>reply_to</th>\n      <th>retweet_date</th>\n      <th>translate</th>\n      <th>trans_src</th>\n      <th>trans_dest</th>\n    </tr>\n  </thead>\n  <tbody>\n    <tr>\n      <th>96</th>\n      <td>1389369085251686400</td>\n      <td>1389349337113587712</td>\n      <td>2021-05-03 19:59:37 Hora est. Sudamérica Pacífico</td>\n      <td>2021-05-03</td>\n      <td>19:59:37</td>\n      <td>-400</td>\n      <td>27046692</td>\n      <td>lorakolodny</td>\n      <td>Lora Kolodny</td>\n      <td></td>\n      <td>...</td>\n      <td></td>\n      <td></td>\n      <td></td>\n      <td></td>\n      <td></td>\n      <td>[]</td>\n      <td></td>\n      <td></td>\n      <td></td>\n      <td></td>\n    </tr>\n    <tr>\n      <th>85</th>\n      <td>1389369097473904643</td>\n      <td>1389267257960841216</td>\n      <td>2021-05-03 19:59:40 Hora est. Sudamérica Pacífico</td>\n      <td>2021-05-03</td>\n      <td>19:59:40</td>\n      <td>-400</td>\n      <td>955542318458789888</td>\n      <td>nowitsmyhour</td>\n      <td>Δ = b² - 4ac</td>\n      <td></td>\n      <td>...</td>\n      <td></td>\n      <td></td>\n      <td></td>\n      <td></td>\n      <td></td>\n      <td>[{'screen_name': 'DeMolJonathan', 'name': '𝓜𝓸𝓷...</td>\n      <td></td>\n      <td></td>\n      <td></td>\n      <td></td>\n    </tr>\n    <tr>\n      <th>172</th>\n      <td>1389369111621234689</td>\n      <td>1389344669255946240</td>\n      <td>2021-05-03 19:59:44 Hora est. Sudamérica Pacífico</td>\n      <td>2021-05-03</td>\n      <td>19:59:44</td>\n      <td>-400</td>\n      <td>1138380755543793664</td>\n      <td>sansimper</td>\n      <td>fin is studying ʚɞ</td>\n      <td></td>\n      <td>...</td>\n      <td></td>\n      <td></td>\n      <td></td>\n      <td></td>\n      <td></td>\n      <td>[{'screen_name': 'chanminholuv', 'name': 'S∆R∆...</td>\n      <td></td>\n      <td></td>\n      <td></td>\n      <td></td>\n    </tr>\n    <tr>\n      <th>79</th>\n      <td>1389369104184881159</td>\n      <td>1388943871887949824</td>\n      <td>2021-05-03 19:59:42 Hora est. Sudamérica Pacífico</td>\n      <td>2021-05-03</td>\n      <td>19:59:42</td>\n      <td>-400</td>\n      <td>1244754067</td>\n      <td>martini225</td>\n      <td>Bored_on_Saturday</td>\n      <td></td>\n      <td>...</td>\n      <td></td>\n      <td></td>\n      <td></td>\n      <td></td>\n      <td></td>\n      <td>[{'screen_name': 'Not_the_Bee', 'name': 'Not t...</td>\n      <td></td>\n      <td></td>\n      <td></td>\n      <td></td>\n    </tr>\n    <tr>\n      <th>124</th>\n      <td>1389369154784923652</td>\n      <td>1389369154784923648</td>\n      <td>2021-05-03 19:59:54 Hora est. Sudamérica Pacífico</td>\n      <td>2021-05-03</td>\n      <td>19:59:54</td>\n      <td>-400</td>\n      <td>2886318730</td>\n      <td>danitales_</td>\n      <td>fuckin’ yamhead</td>\n      <td></td>\n      <td>...</td>\n      <td></td>\n      <td></td>\n      <td></td>\n      <td></td>\n      <td></td>\n      <td>[]</td>\n      <td></td>\n      <td></td>\n      <td></td>\n      <td></td>\n    </tr>\n    <tr>\n      <th>12</th>\n      <td>1389369168240148481</td>\n      <td>1389369168240148480</td>\n      <td>2021-05-03 19:59:57 Hora est. Sudamérica Pacífico</td>\n      <td>2021-05-03</td>\n      <td>19:59:57</td>\n      <td>-400</td>\n      <td>1215258571304099840</td>\n      <td>polsekjambi</td>\n      <td>Polsek Jambi Selatan</td>\n      <td></td>\n      <td>...</td>\n      <td></td>\n      <td></td>\n      <td></td>\n      <td></td>\n      <td></td>\n      <td>[]</td>\n      <td></td>\n      <td></td>\n      <td></td>\n      <td></td>\n    </tr>\n    <tr>\n      <th>49</th>\n      <td>1389369135004459008</td>\n      <td>1388355894518317056</td>\n      <td>2021-05-03 19:59:49 Hora est. Sudamérica Pacífico</td>\n      <td>2021-05-03</td>\n      <td>19:59:49</td>\n      <td>-400</td>\n      <td>2788159602</td>\n      <td>sailormontero</td>\n      <td>Sarcawesome</td>\n      <td></td>\n      <td>...</td>\n      <td></td>\n      <td></td>\n      <td></td>\n      <td></td>\n      <td></td>\n      <td>[{'screen_name': 'PasigInfo', 'name': 'Pasig C...</td>\n      <td></td>\n      <td></td>\n      <td></td>\n      <td></td>\n    </tr>\n    <tr>\n      <th>38</th>\n      <td>1389369143195996160</td>\n      <td>1389369143195996160</td>\n      <td>2021-05-03 19:59:51 Hora est. Sudamérica Pacífico</td>\n      <td>2021-05-03</td>\n      <td>19:59:51</td>\n      <td>-400</td>\n      <td>50643173</td>\n      <td>kallipessoa</td>\n      <td>Kalli Pessôa</td>\n      <td></td>\n      <td>...</td>\n      <td></td>\n      <td></td>\n      <td></td>\n      <td></td>\n      <td></td>\n      <td>[]</td>\n      <td></td>\n      <td></td>\n      <td></td>\n      <td></td>\n    </tr>\n    <tr>\n      <th>57</th>\n      <td>1389369128050257924</td>\n      <td>1389369128050257920</td>\n      <td>2021-05-03 19:59:48 Hora est. Sudamérica Pacífico</td>\n      <td>2021-05-03</td>\n      <td>19:59:48</td>\n      <td>-400</td>\n      <td>81334260</td>\n      <td>you_psy</td>\n      <td>ゆうさい</td>\n      <td></td>\n      <td>...</td>\n      <td></td>\n      <td></td>\n      <td></td>\n      <td></td>\n      <td></td>\n      <td>[]</td>\n      <td></td>\n      <td></td>\n      <td></td>\n      <td></td>\n    </tr>\n    <tr>\n      <th>127</th>\n      <td>1389369153652461570</td>\n      <td>1389369153652461568</td>\n      <td>2021-05-03 19:59:54 Hora est. Sudamérica Pacífico</td>\n      <td>2021-05-03</td>\n      <td>19:59:54</td>\n      <td>-400</td>\n      <td>790155135322324992</td>\n      <td>the_video_gurus</td>\n      <td>NewsGurus24</td>\n      <td></td>\n      <td>...</td>\n      <td></td>\n      <td></td>\n      <td></td>\n      <td></td>\n      <td></td>\n      <td>[]</td>\n      <td></td>\n      <td></td>\n      <td></td>\n      <td></td>\n    </tr>\n  </tbody>\n</table>\n<p>10 rows × 36 columns</p>\n</div>"
     },
     "metadata": {},
     "execution_count": 4
    }
   ],
   "source": [
    "data.sample(10)"
   ]
  },
  {
   "cell_type": "code",
   "execution_count": null,
   "id": "ee50cce0-ece5-4473-8a5a-de5ecbc7290d",
   "metadata": {},
   "outputs": [],
   "source": []
  }
 ],
 "metadata": {
  "kernelspec": {
   "name": "python364jvsc74a57bd0bea891d4f4659476d21e83a48ee1b355f8820be15a794f539b2195aa6b1473be",
   "display_name": "Python 3.6.4 64-bit"
  },
  "language_info": {
   "codemirror_mode": {
    "name": "ipython",
    "version": 3
   },
   "file_extension": ".py",
   "mimetype": "text/x-python",
   "name": "python",
   "nbconvert_exporter": "python",
   "pygments_lexer": "ipython3",
   "version": "3.6.4"
  }
 },
 "nbformat": 4,
 "nbformat_minor": 5
}