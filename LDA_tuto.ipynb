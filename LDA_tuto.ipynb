{
 "cells": [
  {
   "cell_type": "code",
   "execution_count": 12,
   "id": "d60ace4d-6de7-428a-b5f5-c8616498502c",
   "metadata": {},
   "outputs": [
    {
     "data": {
      "text/html": [
       "<div>\n",
       "<style scoped>\n",
       "    .dataframe tbody tr th:only-of-type {\n",
       "        vertical-align: middle;\n",
       "    }\n",
       "\n",
       "    .dataframe tbody tr th {\n",
       "        vertical-align: top;\n",
       "    }\n",
       "\n",
       "    .dataframe thead th {\n",
       "        text-align: right;\n",
       "    }\n",
       "</style>\n",
       "<table border=\"1\" class=\"dataframe\">\n",
       "  <thead>\n",
       "    <tr style=\"text-align: right;\">\n",
       "      <th></th>\n",
       "      <th>headline_text</th>\n",
       "      <th>index</th>\n",
       "    </tr>\n",
       "  </thead>\n",
       "  <tbody>\n",
       "    <tr>\n",
       "      <th>0</th>\n",
       "      <td>aba decides against community broadcasting lic...</td>\n",
       "      <td>0</td>\n",
       "    </tr>\n",
       "    <tr>\n",
       "      <th>1</th>\n",
       "      <td>act fire witnesses must be aware of defamation</td>\n",
       "      <td>1</td>\n",
       "    </tr>\n",
       "    <tr>\n",
       "      <th>2</th>\n",
       "      <td>a g calls for infrastructure protection summit</td>\n",
       "      <td>2</td>\n",
       "    </tr>\n",
       "    <tr>\n",
       "      <th>3</th>\n",
       "      <td>air nz staff in aust strike for pay rise</td>\n",
       "      <td>3</td>\n",
       "    </tr>\n",
       "    <tr>\n",
       "      <th>4</th>\n",
       "      <td>air nz strike to affect australian travellers</td>\n",
       "      <td>4</td>\n",
       "    </tr>\n",
       "  </tbody>\n",
       "</table>\n",
       "</div>"
      ],
      "text/plain": [
       "                                       headline_text  index\n",
       "0  aba decides against community broadcasting lic...      0\n",
       "1     act fire witnesses must be aware of defamation      1\n",
       "2     a g calls for infrastructure protection summit      2\n",
       "3           air nz staff in aust strike for pay rise      3\n",
       "4      air nz strike to affect australian travellers      4"
      ]
     },
     "execution_count": 12,
     "metadata": {},
     "output_type": "execute_result"
    }
   ],
   "source": [
    "import pandas as pd\n",
    "# A Million News Headlines\n",
    "# News headlines published over a period of 18 Years\n",
    "\n",
    "data = pd.read_csv(\"data/LDA_tuto/abcnews-date-text.csv\")\n",
    "data_text = data[['headline_text']]\n",
    "data_text['index'] = data_text.index\n",
    "documents = data_text\n",
    "documents.head()"
   ]
  },
  {
   "cell_type": "code",
   "execution_count": 25,
   "id": "283b3786-86ef-4869-98f3-35d97edfbd35",
   "metadata": {},
   "outputs": [
    {
     "name": "stderr",
     "output_type": "stream",
     "text": [
      "[nltk_data] Downloading package wordnet to\n",
      "[nltk_data]     C:\\Users\\jigna\\AppData\\Roaming\\nltk_data...\n",
      "[nltk_data]   Package wordnet is already up-to-date!\n"
     ]
    },
    {
     "data": {
      "text/plain": [
       "True"
      ]
     },
     "execution_count": 25,
     "metadata": {},
     "output_type": "execute_result"
    }
   ],
   "source": [
    "import gensim\n",
    "from gensim.utils import simple_preprocess\n",
    "from gensim.parsing.preprocessing import STOPWORDS\n",
    "from nltk.stem import WordNetLemmatizer, SnowballStemmer\n",
    "from nltk.stem.porter import *\n",
    "import numpy as np\n",
    "np.random.seed(2018)\n",
    "\n",
    "import nltk\n",
    "nltk.download('wordnet')"
   ]
  },
  {
   "cell_type": "code",
   "execution_count": 26,
   "id": "7b067a1d-6c05-41cc-b54e-cad73bc7d7ee",
   "metadata": {},
   "outputs": [],
   "source": [
    "# Código para procesar el texto. Se quitan las stop words\n",
    "# y se quitan las palabras con largo mayor a 3. Se \n",
    "# lematizan las palabras.\n",
    "\n",
    "\n",
    "def lemmatize_stemming(text):\n",
    "    return WordNetLemmatizer().lemmatize(text, pos='v')\n",
    "\n",
    "def preprocess(text):\n",
    "    result = []\n",
    "    for token in gensim.utils.simple_preprocess(text):\n",
    "        if token not in gensim.parsing.preprocessing.STOPWORDS and \\\n",
    "        len(token) > 3:\n",
    "            result.append(lemmatize_stemming(token))\n",
    "    return result"
   ]
  },
  {
   "cell_type": "code",
   "execution_count": 27,
   "id": "a9ccc076-b317-4e8e-9187-da5df6ba850f",
   "metadata": {},
   "outputs": [
    {
     "name": "stdout",
     "output_type": "stream",
     "text": [
      "original document: \n",
      "['ratepayers', 'group', 'wants', 'compulsory', 'local', 'govt', 'voting']\n",
      "\n",
      "\n",
      " tokenized and lemmatized document: \n",
      "['ratepayers', 'group', 'want', 'compulsory', 'local', 'govt', 'vote']\n"
     ]
    }
   ],
   "source": [
    "doc_sample = documents[documents['index'] == 4310].values[0][0]\n",
    "print('original document: ')\n",
    "words = []\n",
    "for word in doc_sample.split(' '):\n",
    "    words.append(word)\n",
    "print(words)\n",
    "print('\\n\\n tokenized and lemmatized document: ')\n",
    "print(preprocess(doc_sample))"
   ]
  },
  {
   "cell_type": "code",
   "execution_count": 28,
   "id": "ea2d72bb-8efa-4ca8-9cdc-52df087fc2cd",
   "metadata": {},
   "outputs": [
    {
     "data": {
      "text/plain": [
       "0              [decide, community, broadcast, licence]\n",
       "1                         [witness, aware, defamation]\n",
       "2           [call, infrastructure, protection, summit]\n",
       "3                          [staff, aust, strike, rise]\n",
       "4             [strike, affect, australian, travellers]\n",
       "5               [ambitious, olsson, win, triple, jump]\n",
       "6               [antic, delight, record, break, barca]\n",
       "7    [aussie, qualifier, stosur, waste, memphis, ma...\n",
       "8             [aust, address, security, council, iraq]\n",
       "9                         [australia, lock, timetable]\n",
       "Name: headline_text, dtype: object"
      ]
     },
     "execution_count": 28,
     "metadata": {},
     "output_type": "execute_result"
    }
   ],
   "source": [
    "processed_docs = documents['headline_text'].map(preprocess)\n",
    "processed_docs[:10]"
   ]
  },
  {
   "cell_type": "code",
   "execution_count": 29,
   "id": "ca19652a-aaff-48d0-8317-62c1cd1e0b51",
   "metadata": {},
   "outputs": [
    {
     "name": "stdout",
     "output_type": "stream",
     "text": [
      "0 broadcast\n",
      "1 community\n",
      "2 decide\n",
      "3 licence\n",
      "4 aware\n",
      "5 defamation\n",
      "6 witness\n",
      "7 call\n",
      "8 infrastructure\n",
      "9 protection\n",
      "10 summit\n"
     ]
    }
   ],
   "source": [
    "# Se crea un diccionario que guarda todas las palabras\n",
    "# usadas en el corpus. Corresponde al vocabulario.\n",
    "\n",
    "dictionary = gensim.corpora.Dictionary(processed_docs)\n",
    "\n",
    "count = 0\n",
    "for k,v in dictionary.iteritems():\n",
    "    print(k, v)\n",
    "    count += 1\n",
    "    if count > 10:\n",
    "        break"
   ]
  },
  {
   "cell_type": "code",
   "execution_count": 30,
   "id": "60b111a7-aeb5-4247-bc6c-dea314b68951",
   "metadata": {},
   "outputs": [],
   "source": [
    "dictionary.filter_extremes(no_below=15, no_above=0.5, keep_n=100000)"
   ]
  },
  {
   "cell_type": "code",
   "execution_count": 31,
   "id": "dbb4aa56-4bb1-4e90-b54b-e67540db6e08",
   "metadata": {},
   "outputs": [
    {
     "data": {
      "text/plain": [
       "[(232, 1), (334, 1), (508, 1), (592, 1), (3214, 1), (3823, 1)]"
      ]
     },
     "execution_count": 31,
     "metadata": {},
     "output_type": "execute_result"
    }
   ],
   "source": [
    "# Representamos cada elemento del corpus como un coleción\n",
    "# de vectores (w,c) donde w corresponde al índice de la\n",
    "# palabra y c es la cantidad de veces que esa palabra \n",
    "# aparece en ese documento.\n",
    "\n",
    "bow_corpus = [dictionary.doc2bow(doc) for doc in processed_docs]\n",
    "bow_corpus[3636]"
   ]
  },
  {
   "cell_type": "code",
   "execution_count": 32,
   "id": "9f64c695-3a3c-4fb5-b0d1-4b07d38af7e4",
   "metadata": {},
   "outputs": [
    {
     "ename": "TypeError",
     "evalue": "'TfidfModel' object is not callable",
     "output_type": "error",
     "traceback": [
      "\u001b[1;31m---------------------------------------------------------------------------\u001b[0m",
      "\u001b[1;31mTypeError\u001b[0m                                 Traceback (most recent call last)",
      "\u001b[1;32m<ipython-input-32-e28038f7c436>\u001b[0m in \u001b[0;36m<module>\u001b[1;34m\u001b[0m\n\u001b[0;32m      3\u001b[0m \u001b[1;33m\u001b[0m\u001b[0m\n\u001b[0;32m      4\u001b[0m \u001b[0mtfidf\u001b[0m \u001b[1;33m=\u001b[0m \u001b[0mmodels\u001b[0m\u001b[1;33m.\u001b[0m\u001b[0mTfidfModel\u001b[0m\u001b[1;33m(\u001b[0m\u001b[0mbow_corpus\u001b[0m\u001b[1;33m)\u001b[0m\u001b[1;33m\u001b[0m\u001b[0m\n\u001b[1;32m----> 5\u001b[1;33m \u001b[0mcorpus_tfidf\u001b[0m \u001b[1;33m=\u001b[0m \u001b[0mtfidf\u001b[0m\u001b[1;33m(\u001b[0m\u001b[0mbow_corpus\u001b[0m\u001b[1;33m)\u001b[0m\u001b[1;33m\u001b[0m\u001b[0m\n\u001b[0m\u001b[0;32m      6\u001b[0m \u001b[1;33m\u001b[0m\u001b[0m\n\u001b[0;32m      7\u001b[0m \u001b[1;32mfor\u001b[0m \u001b[0mdoc\u001b[0m \u001b[1;32min\u001b[0m \u001b[0mcorpus_tfidf\u001b[0m\u001b[1;33m:\u001b[0m\u001b[1;33m\u001b[0m\u001b[0m\n",
      "\u001b[1;31mTypeError\u001b[0m: 'TfidfModel' object is not callable"
     ]
    }
   ],
   "source": [
    "from gensim import corpora, models\n",
    "from pprint import pprint\n",
    "\n",
    "tfidf = models.TfidfModel(bow_corpus)\n",
    "corpus_tfidf = tfidf(bow_corpus)\n",
    "\n",
    "for doc in corpus_tfidf:\n",
    "    pprint(doc)\n",
    "    break"
   ]
  },
  {
   "cell_type": "code",
   "execution_count": 34,
   "id": "401aba2d-3d98-4f15-a84f-8df0c4dc82c3",
   "metadata": {},
   "outputs": [],
   "source": [
    "# Running LDA using Bag of Words\n",
    "lda_model = gensim.models.LdaMulticore(bow_corpus, \\\n",
    "                                    num_topics=10,\\\n",
    "                                    id2word=dictionary,\\\n",
    "                                    passes=2, workers=2)"
   ]
  },
  {
   "cell_type": "code",
   "execution_count": 35,
   "id": "81ed3664-c016-4f6c-aa45-c92bc6bb7b7f",
   "metadata": {},
   "outputs": [
    {
     "name": "stdout",
     "output_type": "stream",
     "text": [
      "Topic: 0 \n",
      "Words: 0.042*\"australia\" + 0.024*\"donald\" + 0.023*\"sydney\" + 0.021*\"news\" + 0.020*\"world\" + 0.018*\"open\" + 0.013*\"protest\" + 0.012*\"win\" + 0.011*\"morrison\" + 0.011*\"final\"\n",
      "Topic: 1 \n",
      "Words: 0.024*\"market\" + 0.020*\"year\" + 0.017*\"record\" + 0.013*\"care\" + 0.013*\"price\" + 0.013*\"australian\" + 0.012*\"years\" + 0.012*\"business\" + 0.011*\"family\" + 0.011*\"premier\"\n",
      "Topic: 2 \n",
      "Words: 0.047*\"coronavirus\" + 0.016*\"rise\" + 0.016*\"restrictions\" + 0.013*\"royal\" + 0.013*\"scott\" + 0.012*\"concern\" + 0.012*\"water\" + 0.011*\"commission\" + 0.011*\"amid\" + 0.010*\"meet\"\n",
      "Topic: 3 \n",
      "Words: 0.024*\"kill\" + 0.022*\"australian\" + 0.020*\"die\" + 0.017*\"border\" + 0.016*\"shoot\" + 0.016*\"coast\" + 0.016*\"miss\" + 0.014*\"crash\" + 0.013*\"attack\" + 0.013*\"gold\"\n",
      "Topic: 4 \n",
      "Words: 0.040*\"police\" + 0.026*\"charge\" + 0.026*\"case\" + 0.026*\"court\" + 0.021*\"death\" + 0.020*\"murder\" + 0.017*\"face\" + 0.014*\"jail\" + 0.013*\"people\" + 0.013*\"arrest\"\n",
      "Topic: 5 \n",
      "Words: 0.043*\"queensland\" + 0.036*\"coronavirus\" + 0.033*\"government\" + 0.027*\"live\" + 0.026*\"covid\" + 0.025*\"test\" + 0.020*\"australia\" + 0.018*\"tasmania\" + 0.016*\"national\" + 0.014*\"victorian\"\n",
      "Topic: 6 \n",
      "Words: 0.045*\"say\" + 0.020*\"health\" + 0.018*\"change\" + 0.014*\"report\" + 0.012*\"election\" + 0.012*\"labor\" + 0.011*\"tasmanian\" + 0.010*\"guilty\" + 0.010*\"rural\" + 0.009*\"climate\"\n",
      "Topic: 7 \n",
      "Words: 0.014*\"work\" + 0.014*\"fund\" + 0.013*\"school\" + 0.012*\"plan\" + 0.012*\"council\" + 0.011*\"farm\" + 0.010*\"public\" + 0.010*\"vote\" + 0.010*\"review\" + 0.009*\"centre\"\n",
      "Topic: 8 \n",
      "Words: 0.057*\"trump\" + 0.023*\"warn\" + 0.018*\"bushfire\" + 0.015*\"coronavirus\" + 0.015*\"speak\" + 0.012*\"street\" + 0.012*\"flood\" + 0.011*\"wall\" + 0.011*\"season\" + 0.010*\"quarantine\"\n",
      "Topic: 9 \n",
      "Words: 0.024*\"south\" + 0.024*\"victoria\" + 0.017*\"north\" + 0.017*\"melbourne\" + 0.015*\"perth\" + 0.015*\"adelaide\" + 0.013*\"return\" + 0.012*\"interview\" + 0.012*\"west\" + 0.011*\"bank\"\n"
     ]
    }
   ],
   "source": [
    "for idx, topic in lda_model.print_topics(-1):\n",
    "    print('Topic: {} \\nWords: {}'.format(idx, topic))"
   ]
  },
  {
   "cell_type": "code",
   "execution_count": null,
   "id": "88af058e-871c-4ef9-8692-75ce332e9355",
   "metadata": {},
   "outputs": [],
   "source": []
  }
 ],
 "metadata": {
  "kernelspec": {
   "display_name": "Python 3",
   "language": "python",
   "name": "python3"
  },
  "language_info": {
   "codemirror_mode": {
    "name": "ipython",
    "version": 3
   },
   "file_extension": ".py",
   "mimetype": "text/x-python",
   "name": "python",
   "nbconvert_exporter": "python",
   "pygments_lexer": "ipython3",
   "version": "3.6.4"
  }
 },
 "nbformat": 4,
 "nbformat_minor": 5
}
