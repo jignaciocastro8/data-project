{
 "cells": [
  {
   "cell_type": "markdown",
   "id": "86523c20-05f9-4608-969d-eea1133c8709",
   "metadata": {},
   "source": [
    "# **This NB is dedicated to run different searches**\n"
   ]
  },
  {
   "cell_type": "code",
   "execution_count": 2,
   "id": "ab1ea933-7f49-4535-af50-55fb841c0139",
   "metadata": {},
   "outputs": [],
   "source": [
    "import pandas as pd\n",
    "import time\n",
    "import twint\n",
    "import nest_asyncio\n",
    "nest_asyncio.apply()"
   ]
  },
  {
   "cell_type": "markdown",
   "id": "c2491b10-fd81-4019-ac6a-464d6177a1e6",
   "metadata": {},
   "source": [
    "## Search with:\n",
    "\n",
    "space: (c.Geo) coordinates of Beaucheff and a radius of 10 km.\n",
    "\n",
    "time: (c.Since - c.Until) 'estallido social' Chile 18 de octubre 2019."
   ]
  },
  {
   "cell_type": "code",
   "execution_count": 2,
   "id": "7fd2ad32-5bd9-4956-8c7e-34dcf1df2428",
   "metadata": {},
   "outputs": [
    {
     "name": "stderr",
     "output_type": "stream",
     "text": [
      "WARNING:root:Error retrieving https://twitter.com/: ReadTimeout(ReadTimeoutError(\"HTTPSConnectionPool(host='twitter.com', port=443): Read timed out. (read timeout=10)\",),), retrying\n",
      "WARNING:root:Error retrieving https://twitter.com/: ConnectionError(ProtocolError('Connection aborted.', ConnectionResetError(10054, 'Se ha forzado la interrupción de una conexión existente por el host remoto', None, 10054, None)),), retrying\n"
     ]
    },
    {
     "name": "stdout",
     "output_type": "stream",
     "text": [
      "[!] No more data! Scraping will stop now.\n",
      "found 0 deleted tweets in this search.\n",
      "time:  871.9730131626129\n"
     ]
    }
   ],
   "source": [
    "# coordenadas beaucheff = -33.45776872061534, -70.66448325142338\n",
    "# radio de mas o menos 10 kilometros\n",
    "\n",
    "ini =  time.time()\n",
    "\n",
    "c = twint.Config()\n",
    "c.Hide_output = True\n",
    "c.Geo = \"-33.45776872061534,-70.66448325142338,10km\"\n",
    "c.Since = '2019-10-16'\n",
    "c.Until = '2019-10-22'\n",
    "c.Store_csv = True\n",
    "c.Output = 'data/santiago_estallido.csv'\n",
    "twint.run.Search(c)\n",
    "\n",
    "print('time (min): ', (ime.time() - ini) / 60 )"
   ]
  },
  {
   "cell_type": "code",
   "execution_count": 17,
   "id": "a9797e83-5607-4962-ac1b-15f9d4fcedec",
   "metadata": {},
   "outputs": [
    {
     "data": {
      "text/html": [
       "<div>\n",
       "<style scoped>\n",
       "    .dataframe tbody tr th:only-of-type {\n",
       "        vertical-align: middle;\n",
       "    }\n",
       "\n",
       "    .dataframe tbody tr th {\n",
       "        vertical-align: top;\n",
       "    }\n",
       "\n",
       "    .dataframe thead th {\n",
       "        text-align: right;\n",
       "    }\n",
       "</style>\n",
       "<table border=\"1\" class=\"dataframe\">\n",
       "  <thead>\n",
       "    <tr style=\"text-align: right;\">\n",
       "      <th></th>\n",
       "      <th>id</th>\n",
       "      <th>date</th>\n",
       "      <th>tweet</th>\n",
       "    </tr>\n",
       "  </thead>\n",
       "  <tbody>\n",
       "    <tr>\n",
       "      <th>5296</th>\n",
       "      <td>1185281705885741058</td>\n",
       "      <td>2019-10-18</td>\n",
       "      <td>A ganar platita, conectado!! 🚗</td>\n",
       "    </tr>\n",
       "    <tr>\n",
       "      <th>2473</th>\n",
       "      <td>1185320462429106178</td>\n",
       "      <td>2019-10-18</td>\n",
       "      <td>En la moneda @GobiernodeChile @sebastianpinera...</td>\n",
       "    </tr>\n",
       "    <tr>\n",
       "      <th>11783</th>\n",
       "      <td>1185036773497421825</td>\n",
       "      <td>2019-10-18</td>\n",
       "      <td>@jvillalobosa A mi si</td>\n",
       "    </tr>\n",
       "    <tr>\n",
       "      <th>9534</th>\n",
       "      <td>1185177187537866753</td>\n",
       "      <td>2019-10-18</td>\n",
       "      <td>@latercera Más que un desprestigio de la comun...</td>\n",
       "    </tr>\n",
       "    <tr>\n",
       "      <th>1300</th>\n",
       "      <td>1185331694309724160</td>\n",
       "      <td>2019-10-18</td>\n",
       "      <td>@devoratus UNAS TETAS</td>\n",
       "    </tr>\n",
       "  </tbody>\n",
       "</table>\n",
       "</div>"
      ],
      "text/plain": [
       "                        id        date  \\\n",
       "5296   1185281705885741058  2019-10-18   \n",
       "2473   1185320462429106178  2019-10-18   \n",
       "11783  1185036773497421825  2019-10-18   \n",
       "9534   1185177187537866753  2019-10-18   \n",
       "1300   1185331694309724160  2019-10-18   \n",
       "\n",
       "                                                   tweet  \n",
       "5296                      A ganar platita, conectado!! 🚗  \n",
       "2473   En la moneda @GobiernodeChile @sebastianpinera...  \n",
       "11783                              @jvillalobosa A mi si  \n",
       "9534   @latercera Más que un desprestigio de la comun...  \n",
       "1300                               @devoratus UNAS TETAS  "
      ]
     },
     "execution_count": 17,
     "metadata": {},
     "output_type": "execute_result"
    }
   ],
   "source": []
  },
  {
   "cell_type": "markdown",
   "id": "7210df64-bbdd-4ae9-8e7f-c01ebecf0008",
   "metadata": {},
   "source": [
    "## Search with:\n",
    "\n",
    "space: (c.Geo) coordinates of Beaucheff and a radius of 10 km.\n",
    "\n",
    "time: (c.Since - c.Until) 'inicio de la pandemia' Chile 09 de marzo 2020.\n"
   ]
  },
  {
   "cell_type": "code",
   "execution_count": 6,
   "id": "b561b095-c932-48f1-a416-c1ce993c6321",
   "metadata": {},
   "outputs": [
    {
     "name": "stderr",
     "output_type": "stream",
     "text": [
      "WARNING:root:Error retrieving https://twitter.com/: ReadTimeout(ReadTimeoutError(\"HTTPSConnectionPool(host='twitter.com', port=443): Read timed out. (read timeout=10)\",),), retrying\n",
      "WARNING:root:Error retrieving https://twitter.com/: ReadTimeout(ReadTimeoutError(\"HTTPSConnectionPool(host='twitter.com', port=443): Read timed out. (read timeout=10)\",),), retrying\n"
     ]
    },
    {
     "name": "stdout",
     "output_type": "stream",
     "text": [
      "[!] No more data! Scraping will stop now.\n",
      "found 0 deleted tweets in this search.\n",
      "time (min):  15.387168212731678\n"
     ]
    }
   ],
   "source": [
    "# coordenadas beaucheff = -33.45776872061534, -70.66448325142338\n",
    "# radio de mas o menos 10 kilometros\n",
    "\n",
    "ini =  time.time()\n",
    "\n",
    "c = twint.Config()\n",
    "c.Hide_output = True\n",
    "c.Geo = \"-33.45776872061534,-70.66448325142338,10km\"\n",
    "c.Since = '2020-06-10'\n",
    "c.Until = '2020-06-15'\n",
    "c.Store_csv = True\n",
    "c.Output = 'data/santiago_pandemia_junio.csv'\n",
    "twint.run.Search(c)\n",
    "\n",
    "print('time (min): ', (time.time() - ini) / 60 )"
   ]
  },
  {
   "cell_type": "code",
   "execution_count": null,
   "id": "294089db-4736-4b67-81a6-88c0ea8a5f70",
   "metadata": {},
   "outputs": [],
   "source": [
    "# Buscar data para 13 de mayo, ahí se decreta cuarentena en santiago\n",
    "# https://www.pauta.cl/nacional/cronologia-primer-ano-pandemia-chile"
   ]
  }
 ],
 "metadata": {
  "kernelspec": {
   "display_name": "Python 3",
   "language": "python",
   "name": "python3"
  },
  "language_info": {
   "codemirror_mode": {
    "name": "ipython",
    "version": 3
   },
   "file_extension": ".py",
   "mimetype": "text/x-python",
   "name": "python",
   "nbconvert_exporter": "python",
   "pygments_lexer": "ipython3",
   "version": "3.6.4"
  }
 },
 "nbformat": 4,
 "nbformat_minor": 5
}
