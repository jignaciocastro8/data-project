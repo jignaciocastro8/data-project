{
 "cells": [
  {
   "cell_type": "code",
   "execution_count": 1,
   "source": [
    "\"https://towardsdatascience.com/evaluate-topic-model-in-python-latent-dirichlet-allocation-lda-7d57484bb5d0\"\r\n",
    "\"https://radimrehurek.com/gensim/auto_examples/tutorials/run_lda.html\"\r\n",
    "\r\n",
    "import pandas as pd\r\n",
    "import matplotlib.pyplot as plt\r\n",
    "import numpy as np\r\n",
    "import datetime\r\n",
    "import gensim\r\n",
    "from tqdm import tqdm\r\n",
    "from nltk.corpus import stopwords\r\n",
    "from gensim.models import LdaModel\r\n",
    "\r\n",
    "plt.style.use('seaborn')\r\n",
    "\r\n",
    "#data_path = \"data/santiago_covid_2020.csv\"\r\n",
    "#data_path = \"data/santiago_enero.csv\"\r\n",
    "data_path = \"data/gabrielboric.csv\"\r\n",
    "\r\n",
    "\r\n",
    "\r\n",
    "# spanish stop words\r\n",
    "stop_words = set(stopwords.words('spanish'))\r\n",
    "stop_words = ['t', 'si', 'q', 'https', 'co', 'solo', 'ser', 'bien', \r\n",
    "            'así', 'ma', 'mas', 'igual', 'va', 'después',\r\n",
    "            'hacer', 'hace', 'creo'] + list(stop_words)"
   ],
   "outputs": [
    {
     "output_type": "stream",
     "name": "stderr",
     "text": [
      "C:\\Users\\jigna\\AppData\\Local\\Programs\\Python\\Python36\\lib\\site-packages\\gensim\\similarities\\__init__.py:15: UserWarning: The gensim.similarities.levenshtein submodule is disabled, because the optional Levenshtein package <https://pypi.org/project/python-Levenshtein/> is unavailable. Install Levenhstein (e.g. `pip install python-Levenshtein`) to suppress this warning.\n",
      "  warnings.warn(msg)\n"
     ]
    }
   ],
   "metadata": {}
  },
  {
   "cell_type": "markdown",
   "source": [
    "# **Métodos útiles**"
   ],
   "metadata": {}
  },
  {
   "cell_type": "code",
   "execution_count": 2,
   "source": [
    "def bar_plot(x, y, title, file_name):\r\n",
    "    \"\"\"useful method to generate and save bar plots.\r\n",
    "\r\n",
    "    Args:\r\n",
    "        x (str, float?): names.\r\n",
    "        y (float): value of each name.\r\n",
    "        title (str): title to put on the plot.\r\n",
    "        file_name (str): fiel name to save the plot\r\n",
    "    \"\"\"\r\n",
    "    plt.bar(x, y)\r\n",
    "    plt.title(title)\r\n",
    "    plt.xticks(rotation=90)\r\n",
    "    plt.savefig(\"imgs/segunda_avance/\" + file_name)\r\n",
    "    plt.show()\r\n",
    "\r\n",
    "def delete_chars(text, unwanted_chars):\r\n",
    "    \"\"\"\r\n",
    "    useful method to replace a list of chars on text.\r\n",
    "    return:\r\n",
    "        (str) the same str without the chars in chars.\r\n",
    "    \"\"\"\r\n",
    "    for char in unwanted_chars:\r\n",
    "        text = text.replace(char, '')\r\n",
    "    return text\r\n",
    "\r\n",
    "def preprocess_tweet(tweet):\r\n",
    "    \"\"\"\r\n",
    "    Replaces unwanted characters and performs\r\n",
    "    a preprocessing.\r\n",
    "    input: \r\n",
    "        (str) tweet.\r\n",
    "    return:\r\n",
    "        (str[]) final: list of words.\r\n",
    "    \"\"\"\r\n",
    "    unwanted = ['#', ',', '.', '!', '?', '¿', '¡', '(',\\\r\n",
    "                ')', '-', '=', 'jaja', 'jajaja']\r\n",
    "    final = delete_chars(tweet, unwanted).split()\r\n",
    "    final = [w.lower() for w in final]\r\n",
    "    # Asumo que no hay @´s de dos caracteres como @ho.\r\n",
    "    final = [w for w in final if w not in stop_words and len(w) > 3]\r\n",
    "    # Se eliminan links\r\n",
    "    final = [w for w in final if w[:4] != 'http']\r\n",
    "    #final = [w for w in final if w[:1] != '@']\r\n",
    "    return final\r\n",
    "\r\n",
    "def preprocessed_tweets(data_path):\r\n",
    "    \"\"\"Preprocess for twitter data.\r\n",
    "\r\n",
    "    Args:\r\n",
    "        data_path (str): path to raw twitter data csv. Must have ['date', 'tweet'] columns.\r\n",
    "\r\n",
    "    Returns:\r\n",
    "        pd.DataFrame: preprocessed twitter data.\r\n",
    "    \"\"\"\r\n",
    "    # Read and preprocecss data. El orden de los procesos importa.\r\n",
    "    data = pd.read_csv(data_path)[['date', 'tweet']]\r\n",
    "    data['date'] = [datetime.datetime.strptime(date, '%Y-%m-%d') for date in data['date']]\r\n",
    "    processed_tweets = data['tweet'].map(preprocess_tweet)\r\n",
    "    dropers = []\r\n",
    "    for ind, tweet in enumerate(processed_tweets):\r\n",
    "        if len(tweet) < 5:\r\n",
    "            dropers.append(ind) \r\n",
    "    return processed_tweets.drop(dropers) \r\n",
    "    \r\n",
    "# mini mini test\r\n",
    "print(preprocess_tweet('##hola) ¿chao? =) jaja! @jaja_ja'))\r\n"
   ],
   "outputs": [
    {
     "output_type": "stream",
     "name": "stdout",
     "text": [
      "['hola', 'chao', '@_ja']\n"
     ]
    }
   ],
   "metadata": {}
  },
  {
   "cell_type": "markdown",
   "source": [
    "# **Tweets**: Estadísticas del Corpus."
   ],
   "metadata": {}
  },
  {
   "cell_type": "code",
   "execution_count": 3,
   "source": [
    "# Raw data, no pre-process yet. Index no puede ser las fechas porque se repiten.\r\n",
    "# 3756 días.\r\n",
    "\r\n",
    "data = pd.read_csv(data_path)[['date', 'tweet']]\r\n",
    "data.head(10)\r\n",
    "print('---------------------------------------------------------')\r\n",
    "print('Sample: ', data.iloc[0]['tweet'])\r\n",
    "print('---------------------------------------------------------')\r\n",
    "print('Cantidad de tweets basal: ', len(data))\r\n",
    "print('---------------------------------------------------------')\r\n",
    "print('Sample: ')\r\n",
    "# Manejamos el formato de las fechas en data. Correr sólo una vez esta celda.\r\n",
    "data['date'] = [datetime.datetime.strptime(date, '%Y-%m-%d') for date in data['date']]\r\n",
    "\r\n",
    "#data.drop('date', axis=1, inplace=True)\r\n",
    "data[data['date'] == '2015-10-20']"
   ],
   "outputs": [
    {
     "output_type": "stream",
     "name": "stderr",
     "text": [
      "C:\\Users\\jigna\\AppData\\Local\\Programs\\Python\\Python36\\lib\\site-packages\\IPython\\core\\interactiveshell.py:3072: DtypeWarning: Columns (9,22) have mixed types.Specify dtype option on import or set low_memory=False.\n",
      "  interactivity=interactivity, compiler=compiler, result=result)\n"
     ]
    },
    {
     "output_type": "stream",
     "name": "stdout",
     "text": [
      "---------------------------------------------------------\n",
      "Sample:  Hoy nos reunimos con el Rector de la @uvalpochile @ocorralesj para conversar sobre educación superior y los desafíos de las universidades estatales para el nuevo Chile. Nuestro gobierno buscará fortalecer la #educación pública de calidad.  https://t.co/aXvXMWoNPx\n",
      "---------------------------------------------------------\n",
      "Cantidad de tweets basal:  39405\n",
      "---------------------------------------------------------\n",
      "Sample: \n"
     ]
    },
    {
     "output_type": "execute_result",
     "data": {
      "text/plain": [
       "            date                                              tweet\n",
       "15062 2015-10-20                                 @Francrovetto mal.\n",
       "15063 2015-10-20                                        @GiSilore 🙋\n",
       "15064 2015-10-20                             @IsReal1948 impactante\n",
       "15065 2015-10-20                                                 :)\n",
       "15066 2015-10-20                      @depelox no estoy de acuerdo.\n",
       "...          ...                                                ...\n",
       "15188 2015-10-20          @AlejandraOliden  https://t.co/VpAt7VsrgW\n",
       "15189 2015-10-20             @Bienvenidos13 @canal13 aquí estamo' 🙋\n",
       "15190 2015-10-20              @CRISPORTS10  https://t.co/VpAt7VsrgW\n",
       "15191 2015-10-20  @cata__eme peras mentiras socia ;)  https://t....\n",
       "15192 2015-10-20  En minutos vamos en vivo por @canal13 para tra...\n",
       "\n",
       "[131 rows x 2 columns]"
      ],
      "text/html": [
       "<div>\n",
       "<style scoped>\n",
       "    .dataframe tbody tr th:only-of-type {\n",
       "        vertical-align: middle;\n",
       "    }\n",
       "\n",
       "    .dataframe tbody tr th {\n",
       "        vertical-align: top;\n",
       "    }\n",
       "\n",
       "    .dataframe thead th {\n",
       "        text-align: right;\n",
       "    }\n",
       "</style>\n",
       "<table border=\"1\" class=\"dataframe\">\n",
       "  <thead>\n",
       "    <tr style=\"text-align: right;\">\n",
       "      <th></th>\n",
       "      <th>date</th>\n",
       "      <th>tweet</th>\n",
       "    </tr>\n",
       "  </thead>\n",
       "  <tbody>\n",
       "    <tr>\n",
       "      <th>15062</th>\n",
       "      <td>2015-10-20</td>\n",
       "      <td>@Francrovetto mal.</td>\n",
       "    </tr>\n",
       "    <tr>\n",
       "      <th>15063</th>\n",
       "      <td>2015-10-20</td>\n",
       "      <td>@GiSilore 🙋</td>\n",
       "    </tr>\n",
       "    <tr>\n",
       "      <th>15064</th>\n",
       "      <td>2015-10-20</td>\n",
       "      <td>@IsReal1948 impactante</td>\n",
       "    </tr>\n",
       "    <tr>\n",
       "      <th>15065</th>\n",
       "      <td>2015-10-20</td>\n",
       "      <td>:)</td>\n",
       "    </tr>\n",
       "    <tr>\n",
       "      <th>15066</th>\n",
       "      <td>2015-10-20</td>\n",
       "      <td>@depelox no estoy de acuerdo.</td>\n",
       "    </tr>\n",
       "    <tr>\n",
       "      <th>...</th>\n",
       "      <td>...</td>\n",
       "      <td>...</td>\n",
       "    </tr>\n",
       "    <tr>\n",
       "      <th>15188</th>\n",
       "      <td>2015-10-20</td>\n",
       "      <td>@AlejandraOliden  https://t.co/VpAt7VsrgW</td>\n",
       "    </tr>\n",
       "    <tr>\n",
       "      <th>15189</th>\n",
       "      <td>2015-10-20</td>\n",
       "      <td>@Bienvenidos13 @canal13 aquí estamo' 🙋</td>\n",
       "    </tr>\n",
       "    <tr>\n",
       "      <th>15190</th>\n",
       "      <td>2015-10-20</td>\n",
       "      <td>@CRISPORTS10  https://t.co/VpAt7VsrgW</td>\n",
       "    </tr>\n",
       "    <tr>\n",
       "      <th>15191</th>\n",
       "      <td>2015-10-20</td>\n",
       "      <td>@cata__eme peras mentiras socia ;)  https://t....</td>\n",
       "    </tr>\n",
       "    <tr>\n",
       "      <th>15192</th>\n",
       "      <td>2015-10-20</td>\n",
       "      <td>En minutos vamos en vivo por @canal13 para tra...</td>\n",
       "    </tr>\n",
       "  </tbody>\n",
       "</table>\n",
       "<p>131 rows × 2 columns</p>\n",
       "</div>"
      ]
     },
     "metadata": {},
     "execution_count": 3
    }
   ],
   "metadata": {}
  },
  {
   "cell_type": "code",
   "execution_count": 9,
   "source": [
    "# Group by day. Se rellenan las fechas faltantes (de haber).\r\n",
    "\r\n",
    "# Creamos el full index.\r\n",
    "full_index = pd.date_range(data['date'].min(), data['date'].max())\r\n",
    "# Creamos la serie con el número de tweets diarios y le ponemos como index las fechas.\r\n",
    "by_day = data.groupby(['date']).count()\r\n",
    "by_day.index = set(data['date'])\r\n",
    "print('Largo antes del reindex: ', len(by_day))\r\n",
    "# reindex.\r\n",
    "by_day = by_day.reindex(full_index, fill_value=0)\r\n",
    "print('Largo después del reindex: ', len(by_day))\r\n",
    "\r\n",
    "\r\n",
    "\r\n",
    "print('----------------------------------------------------------------')\r\n",
    "print('Agrupación de tweets por día: ')\r\n",
    "print('Mean = {}'.format(by_day.mean().to_string(index=False)))\r\n",
    "print('Min = {}'.format(by_day.min().to_string(index=False)))\r\n",
    "print('Max = {}'.format(by_day.max().to_string(index=False)))\r\n",
    "print('----------------------------------------------------------------')\r\n",
    "\r\n",
    "\r\n",
    "# Fecha del máximo diario.\r\n",
    "by_day[by_day['tweet'] == 131]"
   ],
   "outputs": [
    {
     "output_type": "stream",
     "name": "stdout",
     "text": [
      "Largo antes del reindex:  3756\n",
      "Largo después del reindex:  4308\n",
      "----------------------------------------------------------------\n",
      "Agrupación de tweets por día: \n",
      "Mean =  9.146936\n",
      "Min =  0\n",
      "Max =  131\n",
      "----------------------------------------------------------------\n"
     ]
    },
    {
     "output_type": "execute_result",
     "data": {
      "text/plain": [
       "            tweet\n",
       "2018-04-04    131"
      ],
      "text/html": [
       "<div>\n",
       "<style scoped>\n",
       "    .dataframe tbody tr th:only-of-type {\n",
       "        vertical-align: middle;\n",
       "    }\n",
       "\n",
       "    .dataframe tbody tr th {\n",
       "        vertical-align: top;\n",
       "    }\n",
       "\n",
       "    .dataframe thead th {\n",
       "        text-align: right;\n",
       "    }\n",
       "</style>\n",
       "<table border=\"1\" class=\"dataframe\">\n",
       "  <thead>\n",
       "    <tr style=\"text-align: right;\">\n",
       "      <th></th>\n",
       "      <th>tweet</th>\n",
       "    </tr>\n",
       "  </thead>\n",
       "  <tbody>\n",
       "    <tr>\n",
       "      <th>2018-04-04</th>\n",
       "      <td>131</td>\n",
       "    </tr>\n",
       "  </tbody>\n",
       "</table>\n",
       "</div>"
      ]
     },
     "metadata": {},
     "execution_count": 9
    }
   ],
   "metadata": {}
  },
  {
   "cell_type": "code",
   "execution_count": 150,
   "source": [
    "# Agrupación cada 7 días.\r\n",
    "seven_days = by_day.resample('W').sum()\r\n",
    "\r\n",
    "\r\n",
    "print('----------------------------------------------------------------')\r\n",
    "print('Agrupación de tweets cada 7 días: ')\r\n",
    "print('Mean = {}'.format(seven_days.mean().to_string(index=False)))\r\n",
    "print('Min = {}'.format(seven_days.min().to_string(index=False)))\r\n",
    "print('Max = {}'.format(seven_days.max().to_string(index=False)))\r\n",
    "\r\n",
    "seven_days\r\n"
   ],
   "outputs": [
    {
     "output_type": "stream",
     "name": "stdout",
     "text": [
      "----------------------------------------------------------------\n",
      "Agrupación de tweets cada 7 días: \n",
      "Mean =  63.969156\n",
      "Min =  0\n",
      "Max =  379\n"
     ]
    },
    {
     "output_type": "execute_result",
     "data": {
      "text/plain": [
       "            tweet\n",
       "2009-09-20      4\n",
       "2009-09-27      2\n",
       "2009-10-04      3\n",
       "2009-10-11      0\n",
       "2009-10-18      2\n",
       "...           ...\n",
       "2021-06-06     76\n",
       "2021-06-13     76\n",
       "2021-06-20     69\n",
       "2021-06-27     98\n",
       "2021-07-04     31\n",
       "\n",
       "[616 rows x 1 columns]"
      ],
      "text/html": [
       "<div>\n",
       "<style scoped>\n",
       "    .dataframe tbody tr th:only-of-type {\n",
       "        vertical-align: middle;\n",
       "    }\n",
       "\n",
       "    .dataframe tbody tr th {\n",
       "        vertical-align: top;\n",
       "    }\n",
       "\n",
       "    .dataframe thead th {\n",
       "        text-align: right;\n",
       "    }\n",
       "</style>\n",
       "<table border=\"1\" class=\"dataframe\">\n",
       "  <thead>\n",
       "    <tr style=\"text-align: right;\">\n",
       "      <th></th>\n",
       "      <th>tweet</th>\n",
       "    </tr>\n",
       "  </thead>\n",
       "  <tbody>\n",
       "    <tr>\n",
       "      <th>2009-09-20</th>\n",
       "      <td>4</td>\n",
       "    </tr>\n",
       "    <tr>\n",
       "      <th>2009-09-27</th>\n",
       "      <td>2</td>\n",
       "    </tr>\n",
       "    <tr>\n",
       "      <th>2009-10-04</th>\n",
       "      <td>3</td>\n",
       "    </tr>\n",
       "    <tr>\n",
       "      <th>2009-10-11</th>\n",
       "      <td>0</td>\n",
       "    </tr>\n",
       "    <tr>\n",
       "      <th>2009-10-18</th>\n",
       "      <td>2</td>\n",
       "    </tr>\n",
       "    <tr>\n",
       "      <th>...</th>\n",
       "      <td>...</td>\n",
       "    </tr>\n",
       "    <tr>\n",
       "      <th>2021-06-06</th>\n",
       "      <td>76</td>\n",
       "    </tr>\n",
       "    <tr>\n",
       "      <th>2021-06-13</th>\n",
       "      <td>76</td>\n",
       "    </tr>\n",
       "    <tr>\n",
       "      <th>2021-06-20</th>\n",
       "      <td>69</td>\n",
       "    </tr>\n",
       "    <tr>\n",
       "      <th>2021-06-27</th>\n",
       "      <td>98</td>\n",
       "    </tr>\n",
       "    <tr>\n",
       "      <th>2021-07-04</th>\n",
       "      <td>31</td>\n",
       "    </tr>\n",
       "  </tbody>\n",
       "</table>\n",
       "<p>616 rows × 1 columns</p>\n",
       "</div>"
      ]
     },
     "metadata": {},
     "execution_count": 150
    }
   ],
   "metadata": {}
  },
  {
   "cell_type": "code",
   "execution_count": 147,
   "source": [
    "# Agrupación de tweets por año.\r\n",
    "\r\n",
    "per_year = data.groupby([data.index.year]).count()\r\n",
    "plt.plot(per_year.index, per_year['tweet'], '-o')\r\n",
    "#for (x, y) in zip(daily.index, daily['tweet']):\r\n",
    "#    plt.annotate('{}'.format(y), (x, y), xytext=(10,10), textcoords='offset pixels')\r\n",
    "plt.title('Tweets por año')\r\n",
    "plt.xlabel('Año')\r\n",
    "plt.ylabel('Cantidad de tweets')\r\n",
    "#plt.savefig('imgs/boric_tweet_año.png')\r\n",
    "\r\n",
    "\r\n",
    "print('----------------------------------------------------------------')\r\n",
    "print('Agrupación de tweets por año: ')\r\n",
    "print('Mean = {}'.format(per_year.mean().to_string(index=False)))\r\n",
    "print('Min = {}'.format(per_year.min().to_string(index=False)))\r\n",
    "print('Max = {}'.format(per_year.max().to_string(index=False)))"
   ],
   "outputs": [
    {
     "output_type": "stream",
     "name": "stdout",
     "text": [
      "----------------------------------------------------------------\n",
      "Agrupación de tweets por año: \n",
      "Mean =  3031.153846\n",
      "Min =  48\n",
      "Max =  6904\n"
     ]
    },
    {
     "output_type": "display_data",
     "data": {
      "text/plain": [
       "<Figure size 576x396 with 1 Axes>"
      ],
      "image/png": "[encoded data removed]"
     },
     "metadata": {}
    }
   ],
   "metadata": {}
  },
  {
   "cell_type": "code",
   "execution_count": 118,
   "source": [
    "# Agrupación y tweets por mes.\r\n",
    "\r\n",
    "per_month = data.groupby([data.index.year, data.index.month]).count()\r\n",
    "only_2020 = per_month.loc[2020]\r\n",
    "\r\n",
    "months = ['Jan', 'Feb', 'Mar', 'Apr', 'May', 'Jun', 'Jul', 'Aug', 'Sep', 'Oct', 'Nov', 'Dec']\r\n",
    "\r\n",
    "plt.plot(months, only_2020, '-o')\r\n",
    "plt.title('Tweets en el 2020')\r\n",
    "plt.xlabel('Mes')\r\n",
    "plt.ylabel('Cantidad de tweets')\r\n",
    "#plt.savefig('imgs/boric_tweet_2020.png')"
   ],
   "outputs": [
    {
     "output_type": "display_data",
     "data": {
      "text/plain": [
       "<Figure size 576x396 with 1 Axes>"
      ],
      "image/png": "[encoded data removed]"
     },
     "metadata": {}
    }
   ],
   "metadata": {}
  },
  {
   "cell_type": "code",
   "execution_count": 4,
   "source": [
    "# teting preprocess_tweet method on the first tweet.\r\n",
    "preprocess_tweet(data.iloc[0]['tweet'])"
   ],
   "outputs": [
    {
     "output_type": "execute_result",
     "data": {
      "text/plain": [
       "['reunimos',\n",
       " 'rector',\n",
       " '@uvalpochile',\n",
       " '@ocorralesj',\n",
       " 'conversar',\n",
       " 'educación',\n",
       " 'superior',\n",
       " 'desafíos',\n",
       " 'universidades',\n",
       " 'estatales',\n",
       " 'nuevo',\n",
       " 'chile',\n",
       " 'gobierno',\n",
       " 'buscará',\n",
       " 'fortalecer',\n",
       " 'educación',\n",
       " 'pública',\n",
       " 'calidad']"
      ]
     },
     "metadata": {},
     "execution_count": 4
    }
   ],
   "metadata": {}
  },
  {
   "cell_type": "markdown",
   "source": [
    "# **Preprocess**"
   ],
   "metadata": {}
  },
  {
   "cell_type": "code",
   "execution_count": 4,
   "source": [
    "# Se pre-procesan los tweets: Esto transforma cada\r\n",
    "# tweet en una colección de palabras.\r\n",
    "# processed_tweets corresponde a una lista de listas de palabras.\r\n",
    "\r\n",
    "processed_tweets = data['tweet'].map(preprocess_tweet)\r\n",
    "processed_tweets.head()\r\n",
    "\r\n",
    "# Se van a eliminar tweets pequeños: con menos de 5 palabras después\r\n",
    "# del preprocessing.\r\n",
    "dropers = []\r\n",
    "for ind, tweet in enumerate(processed_tweets):\r\n",
    "    if len(tweet) < 5:\r\n",
    "        dropers.append(ind) \r\n",
    "\r\n",
    "processed_tweets = processed_tweets.drop(dropers)\r\n",
    "print(processed_tweets.sample(5))\r\n",
    "\r\n",
    "print(\"-----------------------------------------------------------------\")\r\n",
    "print('Cantidad de tweets resultantes: ', len(processed_tweets))"
   ],
   "outputs": [
    {
     "output_type": "stream",
     "name": "stdout",
     "text": [
      "15785    [@cami_carrascoh, @guillermog1956, @daniglesia...\n",
      "13467    [apoyo, compañeros, unab, movilizan, desmercan...\n",
      "34942    [sepa, senadora, desginada, baer, entiende, de...\n",
      "11936    [aquí, chic@s, nobelius, ganadores, regionales...\n",
      "6843     [@ale73alone, seguro, alegas, políticos, hacen...\n",
      "Name: tweet, dtype: object\n",
      "-----------------------------------------------------------------\n",
      "Cantidad de tweets resultantes:  24218\n"
     ]
    }
   ],
   "metadata": {}
  },
  {
   "cell_type": "markdown",
   "source": [
    "# **Diccionario y no_belows**"
   ],
   "metadata": {}
  },
  {
   "cell_type": "code",
   "execution_count": 10,
   "source": [
    "# Se crea el vocabulario. \r\n",
    "# Corresponde a crear una lista con todas las palabras involucradas \r\n",
    "# en el corpus asignando un índice único a cada una.\r\n",
    "\r\n",
    "dictionary = gensim.corpora.Dictionary(processed_tweets)\r\n",
    "\r\n",
    "c = 0\r\n",
    "for k, v in dictionary.iteritems():\r\n",
    "    print(k,v)\r\n",
    "    c += 1\r\n",
    "    if c > 5: break\r\n",
    "\r\n",
    "print(\"-----------------------------------------------------------------\")\r\n",
    "print('Largo del diccionario: ', len(dictionary))\r\n",
    "print(\"-----------------------------------------------------------------\")"
   ],
   "outputs": [
    {
     "output_type": "stream",
     "name": "stdout",
     "text": [
      "0 @ocorralesj\n",
      "1 @uvalpochile\n",
      "2 buscará\n",
      "3 calidad\n",
      "4 chile\n",
      "5 conversar\n",
      "-----------------------------------------------------------------\n",
      "Largo del diccionario:  35892\n",
      "-----------------------------------------------------------------\n"
     ]
    }
   ],
   "metadata": {}
  },
  {
   "cell_type": "code",
   "execution_count": 68,
   "source": [
    "# Acá se filtran tokens: No se trabaja con los tweets en si sino que solamente con el vocabulario \r\n",
    "# que estos generan.\r\n",
    "\r\n",
    "\r\n",
    "no_belows = [20, 40, 60, 80, 100, 120]\r\n",
    "dict_len = [] \r\n",
    "\r\n",
    "\r\n",
    "for n in no_belows:\r\n",
    "    # Se crea un dict en cada iteración.\r\n",
    "    dictionary = gensim.corpora.Dictionary(processed_tweets)\r\n",
    "    # Se filtra el dict.\r\n",
    "    dictionary.filter_extremes(no_below=n, no_above=1)\r\n",
    "    # Se guarda el len.\r\n",
    "    dict_len.append(len(dictionary))\r\n",
    "\r\n",
    "# Plot del largo del diccionario en función del no_below.\r\n",
    "plt.plot(no_belows, dict_len, '-o')\r\n",
    "for (x, y) in zip(no_belows, dict_len):\r\n",
    "    plt.annotate('{}'.format(y), (x, y), xytext=(6,3), textcoords='offset pixels')\r\n",
    "plt.title('Tamaño del diccionario')\r\n",
    "plt.xlabel('Número de Tweets')\r\n",
    "plt.ylabel('Tokens resultantes')\r\n",
    "plt.savefig('imgs/no_below_len_dict.png')\r\n",
    "plt.show()\r\n"
   ],
   "outputs": [
    {
     "output_type": "display_data",
     "data": {
      "text/plain": [
       "<Figure size 576x396 with 1 Axes>"
      ],
      "image/png": "[encoded data removed]"
     },
     "metadata": {}
    }
   ],
   "metadata": {}
  },
  {
   "cell_type": "code",
   "execution_count": 15,
   "source": [
    "# Se transforman las palabras a vectores con el dictionary.\r\n",
    "# bow = \"bag of words\"\r\n",
    "\r\n",
    "dictionary = gensim.corpora.Dictionary(processed_tweets)\r\n",
    "\r\n",
    "bow_corpus = [dictionary.doc2bow(doc) for doc in processed_tweets]\r\n",
    "i = 304\r\n",
    "k = 666\r\n",
    "print('bow tweet {}: \\n'.format(i), bow_corpus[i])\r\n",
    "print('bow tweet {}: \\n'.format(k), bow_corpus[k])\r\n",
    "\r\n",
    "# Con esto cada tweet se representa como una colección de tuplas (w, a) \r\n",
    "# donde w es el índice de la palabra y a la cantidad de apariciones en ese\r\n",
    "# tweet."
   ],
   "outputs": [
    {
     "output_type": "stream",
     "name": "stdout",
     "text": [
      "bow tweet 304: \n",
      " [(256, 1), (343, 1), (653, 1), (662, 1), (755, 1), (1078, 1), (1340, 1), (1457, 1), (1646, 1), (1650, 1), (1805, 1), (1862, 1), (1870, 1), (2263, 1), (2264, 1), (2295, 1), (2434, 1), (2435, 1), (2438, 1), (2454, 1), (2455, 1), (2456, 1)]\n",
      "bow tweet 666: \n",
      " [(4, 1), (10, 1), (273, 1), (445, 1), (492, 1), (733, 1), (752, 1), (769, 2), (1008, 1), (1011, 1), (1471, 1), (2274, 1), (4151, 1), (4152, 1), (4153, 1), (4154, 1)]\n"
     ]
    }
   ],
   "metadata": {}
  },
  {
   "cell_type": "markdown",
   "source": [
    "# **Boric0**: Primera iteración del modelo."
   ],
   "metadata": {}
  },
  {
   "cell_type": "code",
   "execution_count": 3,
   "source": [
    "# Primera iteración del model: no se filtran palarbas y se fijan parámetros\r\n",
    "# al ojo. El parámetro 'passes' hace que se demore en correr. \r\n",
    "# Basta correr la celda de los import y la de métodos útiles para que esta funcione.\r\n",
    "\r\n",
    "\r\n",
    "\"\"\"# Read and preprocecss data. El orden de los procesos importa.\r\n",
    "data = pd.read_csv(data_path)[['date', 'tweet']]\r\n",
    "data['date'] = [datetime.datetime.strptime(date, '%Y-%m-%d') for date in data['date']]\r\n",
    "processed_tweets = data['tweet'].map(preprocess_tweet)\r\n",
    "dropers = []\r\n",
    "for ind, tweet in enumerate(processed_tweets):\r\n",
    "    if len(tweet) < 5:\r\n",
    "        dropers.append(ind) \r\n",
    "processed_tweets = processed_tweets.drop(dropers)\"\"\"\r\n",
    "\r\n",
    "# Read and preprocecss data.\r\n",
    "processed_tweets = preprocessed_tweets(data_path)\r\n",
    "\r\n",
    "# Se crea el diccionario sin filtrar; modelo base.\r\n",
    "dictionary = gensim.corpora.Dictionary(processed_tweets)\r\n",
    "bow_corpus = [dictionary.doc2bow(doc) for doc in processed_tweets]\r\n",
    "\r\n",
    "# Default training parameters.\r\n",
    "num_topics = 5\r\n",
    "chunksize = 2000\r\n",
    "passes = 1\r\n",
    "iterations = 50\r\n",
    "eval_every = None \r\n",
    "\r\n",
    "# Make a index to word dictionary.\r\n",
    "temp = dictionary[0]  # This is only to \"load\" the dictionary.\r\n",
    "id2word = dictionary#.id2token\r\n",
    "\r\n",
    "lda_model = LdaModel(\r\n",
    "    corpus=bow_corpus,\r\n",
    "    id2word=dictionary,\r\n",
    "    alpha='auto',\r\n",
    "    eta='auto',\r\n",
    "    num_topics=5,\r\n",
    "    random_state=1\r\n",
    ")\r\n",
    "\r\n",
    "top_topics = lda_model.top_topics(corpus=bow_corpus, coherence='u_mass')\r\n",
    "\r\n",
    "\r\n",
    "\r\n",
    "# LdaMulticore\r\n"
   ],
   "outputs": [
    {
     "output_type": "stream",
     "name": "stderr",
     "text": [
      "C:\\Users\\jigna\\AppData\\Local\\Programs\\Python\\Python36\\lib\\site-packages\\IPython\\core\\interactiveshell.py:3263: DtypeWarning: Columns (9,22) have mixed types.Specify dtype option on import or set low_memory=False.\n",
      "  if (await self.run_code(code, result,  async_=asy)):\n"
     ]
    }
   ],
   "metadata": {}
  },
  {
   "cell_type": "code",
   "execution_count": 4,
   "source": [
    "# Print de los tópicos y sus palabras.\r\n",
    "\r\n",
    "for idx, topic in lda_model.print_topics(-1):\r\n",
    "    print('TOPIC: {} \\nWORDS: {}'.format(idx, topic))"
   ],
   "outputs": [
    {
     "output_type": "stream",
     "name": "stdout",
     "text": [
      "TOPIC: 0 \n",
      "WORDS: 0.008*\"política\" + 0.006*\"chile\" + 0.006*\"tolerancia0\" + 0.006*\"movimiento\" + 0.005*\"mejor\" + 0.005*\"izquierda\" + 0.005*\"educación\" + 0.005*\"derecha\" + 0.005*\"columna\" + 0.004*\"recomiendo\"\n",
      "TOPIC: 1 \n",
      "WORDS: 0.006*\"@jparedesgodoy\" + 0.005*\"abrazo\" + 0.005*\"puede\" + 0.004*\"saludos\" + 0.004*\"@valenzuelalevi\" + 0.004*\"marcha\" + 0.004*\"alguien\" + 0.004*\"política\" + 0.004*\"quiere\" + 0.004*\"mismo\"\n",
      "TOPIC: 2 \n",
      "WORDS: 0.010*\"fech\" + 0.009*\"aguante\" + 0.008*\"chile\" + 0.008*\"universitario\" + 0.007*\"magallanes\" + 0.007*\"buena\" + 0.007*\"mañana\" + 0.007*\"estudiantil\" + 0.006*\"cabros\" + 0.006*\"@izqautonoma\"\n",
      "TOPIC: 3 \n",
      "WORDS: 0.009*\"muchas\" + 0.008*\"ahora\" + 0.008*\"@matiasdelrio\" + 0.008*\"vamos\" + 0.008*\"gracias\" + 0.007*\"senado\" + 0.006*\"concerta\" + 0.005*\"@saladehistoria\" + 0.005*\"vivo\" + 0.005*\"feliz\"\n",
      "TOPIC: 4 \n",
      "WORDS: 0.011*\"educación\" + 0.010*\"@cbellolio\" + 0.008*\"@valenzuelalevi\" + 0.007*\"casa\" + 0.007*\"@lboric\" + 0.005*\"facultad\" + 0.005*\"rector\" + 0.005*\"@donmatas\" + 0.005*\"arenas\" + 0.005*\"punta\"\n"
     ]
    }
   ],
   "metadata": {}
  },
  {
   "cell_type": "code",
   "execution_count": 10,
   "source": [
    "# Acá se generan bar plots de las probabilidades de cada palabra en los\r\n",
    "# tópicos obtenidos.\r\n",
    "\r\n",
    "# top_topics es un arreglo de tamaño el número de tópicos, cada elemento \r\n",
    "# de este arreglo es una tupla (arr, co) donde co es el valor de coherencia\r\n",
    "# de cada tópico y arr es un arreglo de tuplas (prob, word) con la probab\r\n",
    "# de cada palabra en el tópico. \r\n",
    "\r\n",
    "from pprint import pprint\r\n",
    "\r\n",
    "top_topics = lda_model.top_topics(corpus=bow_corpus, \\\r\n",
    "                                coherence='u_mass') #texts=processed_tweets)\r\n",
    "# Para usar ‘c_v’, ‘c_uci’ and ‘c_npmi’, texts should be provided\r\n",
    "\r\n",
    "def bar_plot_boric():\r\n",
    "    # Correr sólo para generar y guardar plots.\r\n",
    "    for ind, t in enumerate(top_topics):\r\n",
    "        bar_plot([x[1] for x in t[0]], [x[0] for x in t[0]], \\\r\n",
    "                \"Probabilidades por palabra: tópico {}. \\n coherencia: {}\".format(ind, round(t[1],2)), \\\r\n",
    "                \"boric_barplot{}.png\".format(ind))\r\n",
    "#bar_plot_boric()\r\n"
   ],
   "outputs": [],
   "metadata": {}
  },
  {
   "cell_type": "code",
   "execution_count": 11,
   "source": [
    "# Acá graficamos la coherencia por tópico.\r\n",
    "\r\n",
    "plt.plot(range(len(top_topics)), [t[1] for t in top_topics], 'o-')\r\n",
    "plt.title(\"Coherencia por tópico\")\r\n",
    "#plt.savefig(\"imgs/segunda_avance/boric_topic_coherence.png\")\r\n",
    "plt.show()\r\n",
    "\r\n",
    "print('------------------------------------------------------------------------')\r\n",
    "print('Coherencia promedio: ', np.mean([t[1] for t in top_topics]))\r\n",
    "print('------------------------------------------------------------------------')\r\n"
   ],
   "outputs": [
    {
     "output_type": "display_data",
     "data": {
      "text/plain": [
       "<Figure size 576x396 with 1 Axes>"
      ],
      "image/png": "[encoded data removed]"
     },
     "metadata": {}
    },
    {
     "output_type": "stream",
     "name": "stdout",
     "text": [
      "------------------------------------------------------------------------\n",
      "Coherencia promedio:  -9.086522023064173\n",
      "------------------------------------------------------------------------\n"
     ]
    }
   ],
   "metadata": {}
  },
  {
   "cell_type": "markdown",
   "source": [
    " # **Optimización**: $\\alpha$, $\\eta$ y $\\texttt{num\\_topics}$."
   ],
   "metadata": {}
  },
  {
   "cell_type": "code",
   "execution_count": 3,
   "source": [
    "\r\n",
    "# Method to calculate coherence measure for each hyperparamaters array.\r\n",
    "def coherence_value(bow_corpus, dictionary, num_topics, alpha, eta):\r\n",
    "    \"\"\"Given the hyperparameters, computes a lda_model and calculates\r\n",
    "    its 'u_mass' metric.\r\n",
    "\r\n",
    "    Args:\r\n",
    "        bow_corpus ([type]): List of tweets as bow\r\n",
    "        dictionary ([type]): dictionary form of the corpus.\r\n",
    "        num_topics (int): number of topics.\r\n",
    "        alpha ([float]): a-priori belief for each topic probability. \r\n",
    "        eta ([float, float]): a-priori belief for words probabiliry\r\n",
    "                                on each topic. \r\n",
    "\r\n",
    "    Returns:\r\n",
    "        [float]: coherence measure 'u_mass'.\r\n",
    "    \"\"\"\r\n",
    "    lda_model = LdaModel(corpus=bow_corpus,\r\n",
    "                        id2word=dictionary,\r\n",
    "                        alpha=alpha,\r\n",
    "                        eta=eta,\r\n",
    "                        num_topics=num_topics,\r\n",
    "                        random_state=1)\r\n",
    "    top_topics = lda_model.top_topics(corpus=bow_corpus, coherence='u_mass')\r\n",
    "    \r\n",
    "    return np.mean([t[1] for t in top_topics])\r\n",
    "\r\n",
    "\r\n",
    "\r\n",
    "#mini test: \r\n",
    "#print(coherence_value(bow_corpus, dictionary, 5, 'auto', 'auto'))\r\n",
    "\r\n",
    "def parameteres_optimization(topics_arr, alpha_arr, eta_arr, file_name):\r\n",
    "    \"\"\"Iterates over the array's product set, runs the model and save\r\n",
    "    the obtained results on a csv.\r\n",
    "\r\n",
    "    Args:\r\n",
    "        topics_arr (int[]): number of topics.\r\n",
    "        alpha_arr (obj[]): alpha.\r\n",
    "        eta_arr (obj[]): eta.\r\n",
    "        file_name (str): File name.\r\n",
    "    \"\"\"\r\n",
    "\r\n",
    "    # Guardamos los resultados en un df que se pasará a csv.\r\n",
    "    df_results = pd.DataFrame(columns=['parameters', 'u_mass'])\r\n",
    "    parameters = []\r\n",
    "    u_mass = []\r\n",
    "\r\n",
    "    for num in tqdm(topics_arr):\r\n",
    "        for alpha in alpha_arr:\r\n",
    "            for eta in eta_arr:\r\n",
    "                parameters.append((num, alpha, eta))\r\n",
    "                u_mass.append(coherence_value(bow_corpus, dictionary, num, alpha, eta))\r\n",
    "\r\n",
    "    df_results['parameters'] = parameters\r\n",
    "    df_results['u_mass'] = u_mass\r\n",
    "\r\n",
    "    # Save dataframe to csv file.\r\n",
    "    if file_name: df_results.to_csv(file_name + '.csv')\r\n",
    "\r\n",
    "    # Print data frame.\r\n",
    "    print(df_results)\r\n",
    "\r\n",
    "    # Return data frame.\r\n",
    "    return df_results\r\n",
    "\r\n",
    "#parameteres_optimization([5], ['auto', 0.5], ['auto', 0.5], None)"
   ],
   "outputs": [],
   "metadata": {}
  },
  {
   "cell_type": "code",
   "execution_count": 4,
   "source": [
    "# Esta celda sirve para variar los arreglos, correr todo y graficar.\r\n",
    "\r\n",
    "# id de la iteración.\r\n",
    "i = 3\r\n",
    "# Read and preprocess data.\r\n",
    "processed_tweets = preprocessed_tweets(data_path)\r\n",
    "# Se crea el diccionario sin filtrar; modelo base.\r\n",
    "dictionary = gensim.corpora.Dictionary(processed_tweets)\r\n",
    "bow_corpus = [dictionary.doc2bow(doc) for doc in processed_tweets]\r\n",
    "\r\n",
    "# Arrays.\r\n",
    "alpha_arr = [1.5, 2, 2.5, 3]\r\n",
    "eta_arr = [1.5, 2, 2.5, 3]\r\n",
    "file_name = 'param_optimization' + str(i) + '_informe'\r\n",
    "df_results = parameteres_optimization([5], alpha_arr, eta_arr, file_name)\r\n",
    "\r\n",
    "# Sacamos valores para graficar.\r\n",
    "str_param = ['{}'.format(p) for p in df_results['parameters']]\r\n",
    "plt.plot(str_param, df_results['u_mass'], '-o')\r\n",
    "plt.xticks(rotation=90)\r\n",
    "plt.title('Coherencia u_mass')\r\n",
    "plt.ylabel('u_mass')\r\n",
    "plt.xlabel('Combinaciones de parámetros')\r\n",
    "#plt.savefig('imgs/param_optimization1_informe.png') queda mal.\r\n",
    "plt.show()\r\n"
   ],
   "outputs": [
    {
     "output_type": "stream",
     "name": "stderr",
     "text": [
      "C:\\Users\\jigna\\AppData\\Local\\Programs\\Python\\Python36\\lib\\site-packages\\IPython\\core\\interactiveshell.py:3263: DtypeWarning: Columns (9,22) have mixed types.Specify dtype option on import or set low_memory=False.\n",
      "  if (await self.run_code(code, result,  async_=asy)):\n",
      "100%|██████████| 1/1 [01:04<00:00, 64.20s/it]"
     ]
    },
    {
     "output_type": "stream",
     "name": "stdout",
     "text": [
      "       parameters    u_mass\n",
      "0   (5, 1.5, 1.5) -5.777407\n",
      "1     (5, 1.5, 2) -5.706805\n",
      "2   (5, 1.5, 2.5) -5.606189\n",
      "3     (5, 1.5, 3) -5.597911\n",
      "4     (5, 2, 1.5) -5.130723\n",
      "5       (5, 2, 2) -5.107225\n",
      "6     (5, 2, 2.5) -5.120657\n",
      "7       (5, 2, 3) -5.097467\n",
      "8   (5, 2.5, 1.5) -4.971348\n",
      "9     (5, 2.5, 2) -4.859146\n",
      "10  (5, 2.5, 2.5) -4.863177\n",
      "11    (5, 2.5, 3) -4.864342\n",
      "12    (5, 3, 1.5) -4.861009\n",
      "13      (5, 3, 2) -4.906948\n",
      "14    (5, 3, 2.5) -4.955229\n",
      "15      (5, 3, 3) -5.107573\n"
     ]
    },
    {
     "output_type": "stream",
     "name": "stderr",
     "text": [
      "\n"
     ]
    },
    {
     "output_type": "display_data",
     "data": {
      "text/plain": [
       "<Figure size 576x396 with 1 Axes>"
      ],
      "image/png": "[encoded data removed]"
     },
     "metadata": {}
    }
   ],
   "metadata": {}
  },
  {
   "cell_type": "code",
   "execution_count": null,
   "source": [],
   "outputs": [],
   "metadata": {}
  }
 ],
 "metadata": {
  "interpreter": {
   "hash": "bea891d4f4659476d21e83a48ee1b355f8820be15a794f539b2195aa6b1473be"
  },
  "kernelspec": {
   "name": "python3",
   "display_name": "Python 3.6.4 64-bit"
  },
  "language_info": {
   "codemirror_mode": {
    "name": "ipython",
    "version": 3
   },
   "file_extension": ".py",
   "mimetype": "text/x-python",
   "name": "python",
   "nbconvert_exporter": "python",
   "pygments_lexer": "ipython3",
   "version": "3.6.4"
  }
 },
 "nbformat": 4,
 "nbformat_minor": 5
}